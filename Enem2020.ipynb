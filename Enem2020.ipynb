{
 "cells": [
  {
   "cell_type": "markdown",
   "id": "c54155b1",
   "metadata": {},
   "source": [
    "# <font color=\"#4F7942\">Enem 2020</font>\n",
    "-------\n",
    "\n",
    "Análise Exploratória de Dados (AED)\n",
    "- Analisar os dados da prova do Exame Nacional do Nível Médio - Enem 2020;\n",
    "- Base muito importante para políticas públicas na área de educação;\n",
    "- Rica em características dos candidatos;\n",
    "- Entender quais características dos candidatos tem alguma relação com a nota.\n",
    "\n",
    "#### <font color=\"#4F7942\">Objeto do Estudo</font>\n",
    "\n",
    "Vamos trabalhar com informações de microdados do ENEM realizado em 2020. De acordo com o site do [INEP](https://www.gov.br/inep/pt-br), o ENEM tem o objetico de avaliar o desempenho escolar dos estudantes ao término da educação básica.   As notas do Enem podem ser usadas para acesso ao Sistema de Seleção Unificada (Sisu) e ao Programa Universidade para Todos (ProUni). Elas também são aceitas em mais de 50 instituições de educação superiror portuguesas. Além disso, os participantes do Enem podem pleitear financiamento estudantil em programas do governo, como o Fundo de Financiamento Estudantil (Fies). Os resultados do Enem possibiliam, ainda, o desenvolvimento de estudos e indicadores educacionais.  \n",
    "  \n",
    "Conhecer bem os dados dos aplicantes para a prova pode forncer insights preciosos para a educação brasileira. Para o presente estudo vamos avaliar indicadores sociais, de escolaridade dos pais e outras indicações tem correlações com as **notas** dos candidatos.   \n",
    "\n",
    "Fonte dos dados: https://www.gov.br/inep/pt-br/acesso-a-informacao/dados-abertos/microdados/enem  <br>\n",
    "\n",
    "*Projeto realizado na formação da \"Let's Data\" - Jornada Cientista de Dados* - https://www.letsdata.ai/\n",
    "\n",
    "-------  \n",
    "\n",
    "\n"
   ]
  },
  {
   "cell_type": "code",
   "execution_count": 2,
   "id": "3acefcd0",
   "metadata": {},
   "outputs": [],
   "source": [
    "# bibliotecas utilizadas\n",
    "import pandas as pd\n",
    "from matplotlib import pyplot as plt\n",
    "import seaborn as sns\n",
    "\n",
    "\n",
    "# Configurações Iniciais\n",
    "# configurando o pandas para mostrar todas as linhas e colunas\n",
    "pd.set_option('display.max_rows', None)\n",
    "pd.set_option('display.max_columns', None)\n",
    "\n",
    "#configurando o pandas para não mostrar notação científica para números\n",
    "pd.set_option('display.float_format', lambda x: '%.2f' % x)"
   ]
  },
  {
   "cell_type": "code",
   "execution_count": null,
   "id": "58a9b8ea",
   "metadata": {},
   "outputs": [],
   "source": [
    "# Visando diminuir o tamanho do arquivo em disco, foi realizada a conversão do arquivo '.csv' para '.parquet'\n",
    "# Instalar o pyarrow:\n",
    "#!pip install pyarrow"
   ]
  },
  {
   "cell_type": "code",
   "execution_count": 2,
   "id": "fb83c67f",
   "metadata": {},
   "outputs": [],
   "source": [
    "# Convertendo o arquivo csv em parquet\n",
    "df_enem_csv = pd.read_csv('./dados/dados2020.csv', encoding='latin1', sep=';')\n",
    "df_enem_csv.to_parquet('./dados/dados2020.parquet')"
   ]
  },
  {
   "cell_type": "code",
   "execution_count": 3,
   "id": "f82954aa",
   "metadata": {},
   "outputs": [
    {
     "data": {
      "text/plain": [
       "(5783109, 76)"
      ]
     },
     "execution_count": 3,
     "metadata": {},
     "output_type": "execute_result"
    }
   ],
   "source": [
    "df_enem = pd.read_parquet('./dados/dados2020.parquet')\n",
    "df_enem.shape # mostrando o numero linhas x colunas"
   ]
  },
  {
   "cell_type": "code",
   "execution_count": 6,
   "id": "75a77abd",
   "metadata": {},
   "outputs": [
    {
     "data": {
      "text/html": [
       "<div>\n",
       "<style scoped>\n",
       "    .dataframe tbody tr th:only-of-type {\n",
       "        vertical-align: middle;\n",
       "    }\n",
       "\n",
       "    .dataframe tbody tr th {\n",
       "        vertical-align: top;\n",
       "    }\n",
       "\n",
       "    .dataframe thead th {\n",
       "        text-align: right;\n",
       "    }\n",
       "</style>\n",
       "<table border=\"1\" class=\"dataframe\">\n",
       "  <thead>\n",
       "    <tr style=\"text-align: right;\">\n",
       "      <th></th>\n",
       "      <th>NU_INSCRICAO</th>\n",
       "      <th>NU_ANO</th>\n",
       "      <th>TP_FAIXA_ETARIA</th>\n",
       "      <th>TP_SEXO</th>\n",
       "      <th>TP_ESTADO_CIVIL</th>\n",
       "      <th>TP_COR_RACA</th>\n",
       "      <th>TP_NACIONALIDADE</th>\n",
       "      <th>TP_ST_CONCLUSAO</th>\n",
       "      <th>TP_ANO_CONCLUIU</th>\n",
       "      <th>TP_ESCOLA</th>\n",
       "      <th>TP_ENSINO</th>\n",
       "      <th>IN_TREINEIRO</th>\n",
       "      <th>CO_MUNICIPIO_ESC</th>\n",
       "      <th>NO_MUNICIPIO_ESC</th>\n",
       "      <th>CO_UF_ESC</th>\n",
       "      <th>SG_UF_ESC</th>\n",
       "      <th>TP_DEPENDENCIA_ADM_ESC</th>\n",
       "      <th>TP_LOCALIZACAO_ESC</th>\n",
       "      <th>TP_SIT_FUNC_ESC</th>\n",
       "      <th>CO_MUNICIPIO_PROVA</th>\n",
       "      <th>NO_MUNICIPIO_PROVA</th>\n",
       "      <th>CO_UF_PROVA</th>\n",
       "      <th>SG_UF_PROVA</th>\n",
       "      <th>TP_PRESENCA_CN</th>\n",
       "      <th>TP_PRESENCA_CH</th>\n",
       "      <th>TP_PRESENCA_LC</th>\n",
       "      <th>TP_PRESENCA_MT</th>\n",
       "      <th>CO_PROVA_CN</th>\n",
       "      <th>CO_PROVA_CH</th>\n",
       "      <th>CO_PROVA_LC</th>\n",
       "      <th>CO_PROVA_MT</th>\n",
       "      <th>NU_NOTA_CN</th>\n",
       "      <th>NU_NOTA_CH</th>\n",
       "      <th>NU_NOTA_LC</th>\n",
       "      <th>NU_NOTA_MT</th>\n",
       "      <th>TX_RESPOSTAS_CN</th>\n",
       "      <th>TX_RESPOSTAS_CH</th>\n",
       "      <th>TX_RESPOSTAS_LC</th>\n",
       "      <th>TX_RESPOSTAS_MT</th>\n",
       "      <th>TP_LINGUA</th>\n",
       "      <th>TX_GABARITO_CN</th>\n",
       "      <th>TX_GABARITO_CH</th>\n",
       "      <th>TX_GABARITO_LC</th>\n",
       "      <th>TX_GABARITO_MT</th>\n",
       "      <th>TP_STATUS_REDACAO</th>\n",
       "      <th>NU_NOTA_COMP1</th>\n",
       "      <th>NU_NOTA_COMP2</th>\n",
       "      <th>NU_NOTA_COMP3</th>\n",
       "      <th>NU_NOTA_COMP4</th>\n",
       "      <th>NU_NOTA_COMP5</th>\n",
       "      <th>NU_NOTA_REDACAO</th>\n",
       "      <th>Q001</th>\n",
       "      <th>Q002</th>\n",
       "      <th>Q003</th>\n",
       "      <th>Q004</th>\n",
       "      <th>Q005</th>\n",
       "      <th>Q006</th>\n",
       "      <th>Q007</th>\n",
       "      <th>Q008</th>\n",
       "      <th>Q009</th>\n",
       "      <th>Q010</th>\n",
       "      <th>Q011</th>\n",
       "      <th>Q012</th>\n",
       "      <th>Q013</th>\n",
       "      <th>Q014</th>\n",
       "      <th>Q015</th>\n",
       "      <th>Q016</th>\n",
       "      <th>Q017</th>\n",
       "      <th>Q018</th>\n",
       "      <th>Q019</th>\n",
       "      <th>Q020</th>\n",
       "      <th>Q021</th>\n",
       "      <th>Q022</th>\n",
       "      <th>Q023</th>\n",
       "      <th>Q024</th>\n",
       "      <th>Q025</th>\n",
       "    </tr>\n",
       "  </thead>\n",
       "  <tbody>\n",
       "    <tr>\n",
       "      <th>0</th>\n",
       "      <td>200006271946</td>\n",
       "      <td>2020</td>\n",
       "      <td>11</td>\n",
       "      <td>F</td>\n",
       "      <td>1</td>\n",
       "      <td>2</td>\n",
       "      <td>1</td>\n",
       "      <td>1</td>\n",
       "      <td>11</td>\n",
       "      <td>1</td>\n",
       "      <td>NaN</td>\n",
       "      <td>0</td>\n",
       "      <td>NaN</td>\n",
       "      <td>None</td>\n",
       "      <td>NaN</td>\n",
       "      <td>None</td>\n",
       "      <td>NaN</td>\n",
       "      <td>NaN</td>\n",
       "      <td>NaN</td>\n",
       "      <td>1501402</td>\n",
       "      <td>Belém</td>\n",
       "      <td>15</td>\n",
       "      <td>PA</td>\n",
       "      <td>0</td>\n",
       "      <td>0</td>\n",
       "      <td>0</td>\n",
       "      <td>0</td>\n",
       "      <td>NaN</td>\n",
       "      <td>NaN</td>\n",
       "      <td>NaN</td>\n",
       "      <td>NaN</td>\n",
       "      <td>NaN</td>\n",
       "      <td>NaN</td>\n",
       "      <td>NaN</td>\n",
       "      <td>NaN</td>\n",
       "      <td>None</td>\n",
       "      <td>None</td>\n",
       "      <td>None</td>\n",
       "      <td>None</td>\n",
       "      <td>1</td>\n",
       "      <td>None</td>\n",
       "      <td>None</td>\n",
       "      <td>None</td>\n",
       "      <td>None</td>\n",
       "      <td>NaN</td>\n",
       "      <td>NaN</td>\n",
       "      <td>NaN</td>\n",
       "      <td>NaN</td>\n",
       "      <td>NaN</td>\n",
       "      <td>NaN</td>\n",
       "      <td>NaN</td>\n",
       "      <td>None</td>\n",
       "      <td>None</td>\n",
       "      <td>None</td>\n",
       "      <td>None</td>\n",
       "      <td>NaN</td>\n",
       "      <td>None</td>\n",
       "      <td>None</td>\n",
       "      <td>None</td>\n",
       "      <td>None</td>\n",
       "      <td>None</td>\n",
       "      <td>None</td>\n",
       "      <td>None</td>\n",
       "      <td>None</td>\n",
       "      <td>None</td>\n",
       "      <td>None</td>\n",
       "      <td>None</td>\n",
       "      <td>None</td>\n",
       "      <td>None</td>\n",
       "      <td>None</td>\n",
       "      <td>None</td>\n",
       "      <td>None</td>\n",
       "      <td>None</td>\n",
       "      <td>None</td>\n",
       "      <td>None</td>\n",
       "      <td>None</td>\n",
       "    </tr>\n",
       "    <tr>\n",
       "      <th>1</th>\n",
       "      <td>200001195856</td>\n",
       "      <td>2020</td>\n",
       "      <td>11</td>\n",
       "      <td>M</td>\n",
       "      <td>2</td>\n",
       "      <td>3</td>\n",
       "      <td>1</td>\n",
       "      <td>1</td>\n",
       "      <td>11</td>\n",
       "      <td>1</td>\n",
       "      <td>NaN</td>\n",
       "      <td>0</td>\n",
       "      <td>NaN</td>\n",
       "      <td>None</td>\n",
       "      <td>NaN</td>\n",
       "      <td>None</td>\n",
       "      <td>NaN</td>\n",
       "      <td>NaN</td>\n",
       "      <td>NaN</td>\n",
       "      <td>2408102</td>\n",
       "      <td>Natal</td>\n",
       "      <td>24</td>\n",
       "      <td>RN</td>\n",
       "      <td>1</td>\n",
       "      <td>1</td>\n",
       "      <td>1</td>\n",
       "      <td>1</td>\n",
       "      <td>702.00</td>\n",
       "      <td>689.00</td>\n",
       "      <td>693.00</td>\n",
       "      <td>698.00</td>\n",
       "      <td>604.10</td>\n",
       "      <td>661.70</td>\n",
       "      <td>595.30</td>\n",
       "      <td>711.30</td>\n",
       "      <td>BCBDBDCCCDBDDBADEEACEEAECBECCDBCACDEBEECEBAAE</td>\n",
       "      <td>BCAECABCDCEBDBBBDAABABACBCDDDBDDBABDAADACACBC</td>\n",
       "      <td>99999CADDEDADBAABEAADAAAADCADAABDCCBEECAEECAAC...</td>\n",
       "      <td>EBEBDEDAECBADCADDABACAEDBEEEAEADCCBCEACDACEBB</td>\n",
       "      <td>1</td>\n",
       "      <td>ABBACBCCCDDDDBAEEBECEDACABDCBEDAECDABECCBBADE</td>\n",
       "      <td>BCEECDBCCDEBDBBBBEAAAEACBCDDDBDDBABDABDDBAABC</td>\n",
       "      <td>99999CBDDEDBDBACECABAAAEAECCDCABCBBBBEEDCECAAE...</td>\n",
       "      <td>BBEADECAECBBXCEBADBACAEDACEDADAADCBCCBBDABBEE</td>\n",
       "      <td>1.00</td>\n",
       "      <td>120.00</td>\n",
       "      <td>120.00</td>\n",
       "      <td>120.00</td>\n",
       "      <td>120.00</td>\n",
       "      <td>100.00</td>\n",
       "      <td>580.00</td>\n",
       "      <td>None</td>\n",
       "      <td>None</td>\n",
       "      <td>None</td>\n",
       "      <td>None</td>\n",
       "      <td>NaN</td>\n",
       "      <td>None</td>\n",
       "      <td>None</td>\n",
       "      <td>None</td>\n",
       "      <td>None</td>\n",
       "      <td>None</td>\n",
       "      <td>None</td>\n",
       "      <td>None</td>\n",
       "      <td>None</td>\n",
       "      <td>None</td>\n",
       "      <td>None</td>\n",
       "      <td>None</td>\n",
       "      <td>None</td>\n",
       "      <td>None</td>\n",
       "      <td>None</td>\n",
       "      <td>None</td>\n",
       "      <td>None</td>\n",
       "      <td>None</td>\n",
       "      <td>None</td>\n",
       "      <td>None</td>\n",
       "      <td>None</td>\n",
       "    </tr>\n",
       "    <tr>\n",
       "      <th>2</th>\n",
       "      <td>200001943954</td>\n",
       "      <td>2020</td>\n",
       "      <td>4</td>\n",
       "      <td>F</td>\n",
       "      <td>2</td>\n",
       "      <td>3</td>\n",
       "      <td>2</td>\n",
       "      <td>2</td>\n",
       "      <td>0</td>\n",
       "      <td>2</td>\n",
       "      <td>1.00</td>\n",
       "      <td>0</td>\n",
       "      <td>2927408.00</td>\n",
       "      <td>Salvador</td>\n",
       "      <td>29.00</td>\n",
       "      <td>BA</td>\n",
       "      <td>2.00</td>\n",
       "      <td>1.00</td>\n",
       "      <td>1.00</td>\n",
       "      <td>2927408</td>\n",
       "      <td>Salvador</td>\n",
       "      <td>29</td>\n",
       "      <td>BA</td>\n",
       "      <td>0</td>\n",
       "      <td>0</td>\n",
       "      <td>0</td>\n",
       "      <td>0</td>\n",
       "      <td>NaN</td>\n",
       "      <td>NaN</td>\n",
       "      <td>NaN</td>\n",
       "      <td>NaN</td>\n",
       "      <td>NaN</td>\n",
       "      <td>NaN</td>\n",
       "      <td>NaN</td>\n",
       "      <td>NaN</td>\n",
       "      <td>None</td>\n",
       "      <td>None</td>\n",
       "      <td>None</td>\n",
       "      <td>None</td>\n",
       "      <td>0</td>\n",
       "      <td>None</td>\n",
       "      <td>None</td>\n",
       "      <td>None</td>\n",
       "      <td>None</td>\n",
       "      <td>NaN</td>\n",
       "      <td>NaN</td>\n",
       "      <td>NaN</td>\n",
       "      <td>NaN</td>\n",
       "      <td>NaN</td>\n",
       "      <td>NaN</td>\n",
       "      <td>NaN</td>\n",
       "      <td>B</td>\n",
       "      <td>C</td>\n",
       "      <td>A</td>\n",
       "      <td>D</td>\n",
       "      <td>3.00</td>\n",
       "      <td>B</td>\n",
       "      <td>A</td>\n",
       "      <td>B</td>\n",
       "      <td>A</td>\n",
       "      <td>A</td>\n",
       "      <td>A</td>\n",
       "      <td>B</td>\n",
       "      <td>A</td>\n",
       "      <td>B</td>\n",
       "      <td>A</td>\n",
       "      <td>B</td>\n",
       "      <td>A</td>\n",
       "      <td>A</td>\n",
       "      <td>B</td>\n",
       "      <td>A</td>\n",
       "      <td>A</td>\n",
       "      <td>A</td>\n",
       "      <td>A</td>\n",
       "      <td>A</td>\n",
       "      <td>A</td>\n",
       "    </tr>\n",
       "    <tr>\n",
       "      <th>3</th>\n",
       "      <td>200001908998</td>\n",
       "      <td>2020</td>\n",
       "      <td>2</td>\n",
       "      <td>M</td>\n",
       "      <td>1</td>\n",
       "      <td>3</td>\n",
       "      <td>1</td>\n",
       "      <td>2</td>\n",
       "      <td>0</td>\n",
       "      <td>2</td>\n",
       "      <td>1.00</td>\n",
       "      <td>0</td>\n",
       "      <td>3547304.00</td>\n",
       "      <td>Santana de Parnaíba</td>\n",
       "      <td>35.00</td>\n",
       "      <td>SP</td>\n",
       "      <td>3.00</td>\n",
       "      <td>1.00</td>\n",
       "      <td>1.00</td>\n",
       "      <td>3547304</td>\n",
       "      <td>Santana de Parnaíba</td>\n",
       "      <td>35</td>\n",
       "      <td>SP</td>\n",
       "      <td>1</td>\n",
       "      <td>1</td>\n",
       "      <td>1</td>\n",
       "      <td>1</td>\n",
       "      <td>700.00</td>\n",
       "      <td>688.00</td>\n",
       "      <td>692.00</td>\n",
       "      <td>696.00</td>\n",
       "      <td>620.80</td>\n",
       "      <td>675.00</td>\n",
       "      <td>624.20</td>\n",
       "      <td>759.40</td>\n",
       "      <td>EBEDCCCDCBDBAECAECCECEACCBAABBBCEABCAAAEBEBAE</td>\n",
       "      <td>DABCCACCBCCDCADBDCBAAEBDDBAABDBAEBEBBABDABDBE</td>\n",
       "      <td>DCEAB99999AADAECCEBCDDDCBABDDABBCEEBAEDDDADEBE...</td>\n",
       "      <td>CBDBDCCDDEECBAABBBADEDEDBECDEBBADAEBAABBECBBA</td>\n",
       "      <td>0</td>\n",
       "      <td>BDECCACBEBDEAEDAECCBAEABCCEADDBBCADCBDDEBDBAC</td>\n",
       "      <td>DABCCAECBABECADBDCCABDBCDDAABDBAEBEBBDBDDBDBE</td>\n",
       "      <td>DCEAD99999AADACCCCBBDDCABAECAABBEECBAEDDBBEEBE...</td>\n",
       "      <td>EBDBXCCDAEECBAABABAEDDEDAECBCDCADEEBBABBACBCA</td>\n",
       "      <td>1.00</td>\n",
       "      <td>140.00</td>\n",
       "      <td>200.00</td>\n",
       "      <td>140.00</td>\n",
       "      <td>120.00</td>\n",
       "      <td>160.00</td>\n",
       "      <td>760.00</td>\n",
       "      <td>None</td>\n",
       "      <td>None</td>\n",
       "      <td>None</td>\n",
       "      <td>None</td>\n",
       "      <td>NaN</td>\n",
       "      <td>None</td>\n",
       "      <td>None</td>\n",
       "      <td>None</td>\n",
       "      <td>None</td>\n",
       "      <td>None</td>\n",
       "      <td>None</td>\n",
       "      <td>None</td>\n",
       "      <td>None</td>\n",
       "      <td>None</td>\n",
       "      <td>None</td>\n",
       "      <td>None</td>\n",
       "      <td>None</td>\n",
       "      <td>None</td>\n",
       "      <td>None</td>\n",
       "      <td>None</td>\n",
       "      <td>None</td>\n",
       "      <td>None</td>\n",
       "      <td>None</td>\n",
       "      <td>None</td>\n",
       "      <td>None</td>\n",
       "    </tr>\n",
       "    <tr>\n",
       "      <th>4</th>\n",
       "      <td>200001634757</td>\n",
       "      <td>2020</td>\n",
       "      <td>4</td>\n",
       "      <td>F</td>\n",
       "      <td>1</td>\n",
       "      <td>3</td>\n",
       "      <td>2</td>\n",
       "      <td>1</td>\n",
       "      <td>1</td>\n",
       "      <td>1</td>\n",
       "      <td>NaN</td>\n",
       "      <td>0</td>\n",
       "      <td>NaN</td>\n",
       "      <td>None</td>\n",
       "      <td>NaN</td>\n",
       "      <td>None</td>\n",
       "      <td>NaN</td>\n",
       "      <td>NaN</td>\n",
       "      <td>NaN</td>\n",
       "      <td>3121605</td>\n",
       "      <td>Diamantina</td>\n",
       "      <td>31</td>\n",
       "      <td>MG</td>\n",
       "      <td>0</td>\n",
       "      <td>0</td>\n",
       "      <td>0</td>\n",
       "      <td>0</td>\n",
       "      <td>NaN</td>\n",
       "      <td>NaN</td>\n",
       "      <td>NaN</td>\n",
       "      <td>NaN</td>\n",
       "      <td>NaN</td>\n",
       "      <td>NaN</td>\n",
       "      <td>NaN</td>\n",
       "      <td>NaN</td>\n",
       "      <td>None</td>\n",
       "      <td>None</td>\n",
       "      <td>None</td>\n",
       "      <td>None</td>\n",
       "      <td>1</td>\n",
       "      <td>None</td>\n",
       "      <td>None</td>\n",
       "      <td>None</td>\n",
       "      <td>None</td>\n",
       "      <td>NaN</td>\n",
       "      <td>NaN</td>\n",
       "      <td>NaN</td>\n",
       "      <td>NaN</td>\n",
       "      <td>NaN</td>\n",
       "      <td>NaN</td>\n",
       "      <td>NaN</td>\n",
       "      <td>B</td>\n",
       "      <td>G</td>\n",
       "      <td>B</td>\n",
       "      <td>B</td>\n",
       "      <td>3.00</td>\n",
       "      <td>B</td>\n",
       "      <td>A</td>\n",
       "      <td>B</td>\n",
       "      <td>D</td>\n",
       "      <td>A</td>\n",
       "      <td>A</td>\n",
       "      <td>B</td>\n",
       "      <td>A</td>\n",
       "      <td>B</td>\n",
       "      <td>A</td>\n",
       "      <td>A</td>\n",
       "      <td>A</td>\n",
       "      <td>A</td>\n",
       "      <td>B</td>\n",
       "      <td>A</td>\n",
       "      <td>B</td>\n",
       "      <td>B</td>\n",
       "      <td>A</td>\n",
       "      <td>A</td>\n",
       "      <td>B</td>\n",
       "    </tr>\n",
       "  </tbody>\n",
       "</table>\n",
       "</div>"
      ],
      "text/plain": [
       "   NU_INSCRICAO  NU_ANO  TP_FAIXA_ETARIA TP_SEXO  TP_ESTADO_CIVIL  \\\n",
       "0  200006271946    2020               11       F                1   \n",
       "1  200001195856    2020               11       M                2   \n",
       "2  200001943954    2020                4       F                2   \n",
       "3  200001908998    2020                2       M                1   \n",
       "4  200001634757    2020                4       F                1   \n",
       "\n",
       "   TP_COR_RACA  TP_NACIONALIDADE  TP_ST_CONCLUSAO  TP_ANO_CONCLUIU  TP_ESCOLA  \\\n",
       "0            2                 1                1               11          1   \n",
       "1            3                 1                1               11          1   \n",
       "2            3                 2                2                0          2   \n",
       "3            3                 1                2                0          2   \n",
       "4            3                 2                1                1          1   \n",
       "\n",
       "   TP_ENSINO  IN_TREINEIRO  CO_MUNICIPIO_ESC     NO_MUNICIPIO_ESC  CO_UF_ESC  \\\n",
       "0        NaN             0               NaN                 None        NaN   \n",
       "1        NaN             0               NaN                 None        NaN   \n",
       "2       1.00             0        2927408.00             Salvador      29.00   \n",
       "3       1.00             0        3547304.00  Santana de Parnaíba      35.00   \n",
       "4        NaN             0               NaN                 None        NaN   \n",
       "\n",
       "  SG_UF_ESC  TP_DEPENDENCIA_ADM_ESC  TP_LOCALIZACAO_ESC  TP_SIT_FUNC_ESC  \\\n",
       "0      None                     NaN                 NaN              NaN   \n",
       "1      None                     NaN                 NaN              NaN   \n",
       "2        BA                    2.00                1.00             1.00   \n",
       "3        SP                    3.00                1.00             1.00   \n",
       "4      None                     NaN                 NaN              NaN   \n",
       "\n",
       "   CO_MUNICIPIO_PROVA   NO_MUNICIPIO_PROVA  CO_UF_PROVA SG_UF_PROVA  \\\n",
       "0             1501402                Belém           15          PA   \n",
       "1             2408102                Natal           24          RN   \n",
       "2             2927408             Salvador           29          BA   \n",
       "3             3547304  Santana de Parnaíba           35          SP   \n",
       "4             3121605           Diamantina           31          MG   \n",
       "\n",
       "   TP_PRESENCA_CN  TP_PRESENCA_CH  TP_PRESENCA_LC  TP_PRESENCA_MT  \\\n",
       "0               0               0               0               0   \n",
       "1               1               1               1               1   \n",
       "2               0               0               0               0   \n",
       "3               1               1               1               1   \n",
       "4               0               0               0               0   \n",
       "\n",
       "   CO_PROVA_CN  CO_PROVA_CH  CO_PROVA_LC  CO_PROVA_MT  NU_NOTA_CN  NU_NOTA_CH  \\\n",
       "0          NaN          NaN          NaN          NaN         NaN         NaN   \n",
       "1       702.00       689.00       693.00       698.00      604.10      661.70   \n",
       "2          NaN          NaN          NaN          NaN         NaN         NaN   \n",
       "3       700.00       688.00       692.00       696.00      620.80      675.00   \n",
       "4          NaN          NaN          NaN          NaN         NaN         NaN   \n",
       "\n",
       "   NU_NOTA_LC  NU_NOTA_MT                                TX_RESPOSTAS_CN  \\\n",
       "0         NaN         NaN                                           None   \n",
       "1      595.30      711.30  BCBDBDCCCDBDDBADEEACEEAECBECCDBCACDEBEECEBAAE   \n",
       "2         NaN         NaN                                           None   \n",
       "3      624.20      759.40  EBEDCCCDCBDBAECAECCECEACCBAABBBCEABCAAAEBEBAE   \n",
       "4         NaN         NaN                                           None   \n",
       "\n",
       "                                 TX_RESPOSTAS_CH  \\\n",
       "0                                           None   \n",
       "1  BCAECABCDCEBDBBBDAABABACBCDDDBDDBABDAADACACBC   \n",
       "2                                           None   \n",
       "3  DABCCACCBCCDCADBDCBAAEBDDBAABDBAEBEBBABDABDBE   \n",
       "4                                           None   \n",
       "\n",
       "                                     TX_RESPOSTAS_LC  \\\n",
       "0                                               None   \n",
       "1  99999CADDEDADBAABEAADAAAADCADAABDCCBEECAEECAAC...   \n",
       "2                                               None   \n",
       "3  DCEAB99999AADAECCEBCDDDCBABDDABBCEEBAEDDDADEBE...   \n",
       "4                                               None   \n",
       "\n",
       "                                 TX_RESPOSTAS_MT  TP_LINGUA  \\\n",
       "0                                           None          1   \n",
       "1  EBEBDEDAECBADCADDABACAEDBEEEAEADCCBCEACDACEBB          1   \n",
       "2                                           None          0   \n",
       "3  CBDBDCCDDEECBAABBBADEDEDBECDEBBADAEBAABBECBBA          0   \n",
       "4                                           None          1   \n",
       "\n",
       "                                  TX_GABARITO_CN  \\\n",
       "0                                           None   \n",
       "1  ABBACBCCCDDDDBAEEBECEDACABDCBEDAECDABECCBBADE   \n",
       "2                                           None   \n",
       "3  BDECCACBEBDEAEDAECCBAEABCCEADDBBCADCBDDEBDBAC   \n",
       "4                                           None   \n",
       "\n",
       "                                  TX_GABARITO_CH  \\\n",
       "0                                           None   \n",
       "1  BCEECDBCCDEBDBBBBEAAAEACBCDDDBDDBABDABDDBAABC   \n",
       "2                                           None   \n",
       "3  DABCCAECBABECADBDCCABDBCDDAABDBAEBEBBDBDDBDBE   \n",
       "4                                           None   \n",
       "\n",
       "                                      TX_GABARITO_LC  \\\n",
       "0                                               None   \n",
       "1  99999CBDDEDBDBACECABAAAEAECCDCABCBBBBEEDCECAAE...   \n",
       "2                                               None   \n",
       "3  DCEAD99999AADACCCCBBDDCABAECAABBEECBAEDDBBEEBE...   \n",
       "4                                               None   \n",
       "\n",
       "                                  TX_GABARITO_MT  TP_STATUS_REDACAO  \\\n",
       "0                                           None                NaN   \n",
       "1  BBEADECAECBBXCEBADBACAEDACEDADAADCBCCBBDABBEE               1.00   \n",
       "2                                           None                NaN   \n",
       "3  EBDBXCCDAEECBAABABAEDDEDAECBCDCADEEBBABBACBCA               1.00   \n",
       "4                                           None                NaN   \n",
       "\n",
       "   NU_NOTA_COMP1  NU_NOTA_COMP2  NU_NOTA_COMP3  NU_NOTA_COMP4  NU_NOTA_COMP5  \\\n",
       "0            NaN            NaN            NaN            NaN            NaN   \n",
       "1         120.00         120.00         120.00         120.00         100.00   \n",
       "2            NaN            NaN            NaN            NaN            NaN   \n",
       "3         140.00         200.00         140.00         120.00         160.00   \n",
       "4            NaN            NaN            NaN            NaN            NaN   \n",
       "\n",
       "   NU_NOTA_REDACAO  Q001  Q002  Q003  Q004  Q005  Q006  Q007  Q008  Q009  \\\n",
       "0              NaN  None  None  None  None   NaN  None  None  None  None   \n",
       "1           580.00  None  None  None  None   NaN  None  None  None  None   \n",
       "2              NaN     B     C     A     D  3.00     B     A     B     A   \n",
       "3           760.00  None  None  None  None   NaN  None  None  None  None   \n",
       "4              NaN     B     G     B     B  3.00     B     A     B     D   \n",
       "\n",
       "   Q010  Q011  Q012  Q013  Q014  Q015  Q016  Q017  Q018  Q019  Q020  Q021  \\\n",
       "0  None  None  None  None  None  None  None  None  None  None  None  None   \n",
       "1  None  None  None  None  None  None  None  None  None  None  None  None   \n",
       "2     A     A     B     A     B     A     B     A     A     B     A     A   \n",
       "3  None  None  None  None  None  None  None  None  None  None  None  None   \n",
       "4     A     A     B     A     B     A     A     A     A     B     A     B   \n",
       "\n",
       "   Q022  Q023  Q024  Q025  \n",
       "0  None  None  None  None  \n",
       "1  None  None  None  None  \n",
       "2     A     A     A     A  \n",
       "3  None  None  None  None  \n",
       "4     B     A     A     B  "
      ]
     },
     "execution_count": 6,
     "metadata": {},
     "output_type": "execute_result"
    }
   ],
   "source": [
    "# primeira visualização dos dados\n",
    "df_enem.head()"
   ]
  },
  {
   "cell_type": "code",
   "execution_count": 7,
   "id": "cb9fe91c",
   "metadata": {},
   "outputs": [
    {
     "data": {
      "text/plain": [
       "5783109"
      ]
     },
     "execution_count": 7,
     "metadata": {},
     "output_type": "execute_result"
    }
   ],
   "source": [
    "# Contando o número de candidatos\n",
    "len(df_enem['NU_INSCRICAO'].unique())"
   ]
  },
  {
   "cell_type": "code",
   "execution_count": 8,
   "id": "a8c61c2f",
   "metadata": {},
   "outputs": [
    {
     "name": "stdout",
     "output_type": "stream",
     "text": [
      "<class 'pandas.core.frame.DataFrame'>\n",
      "RangeIndex: 5783109 entries, 0 to 5783108\n",
      "Data columns (total 76 columns):\n",
      " #   Column                  Dtype  \n",
      "---  ------                  -----  \n",
      " 0   NU_INSCRICAO            int64  \n",
      " 1   NU_ANO                  int64  \n",
      " 2   TP_FAIXA_ETARIA         int64  \n",
      " 3   TP_SEXO                 object \n",
      " 4   TP_ESTADO_CIVIL         int64  \n",
      " 5   TP_COR_RACA             int64  \n",
      " 6   TP_NACIONALIDADE        int64  \n",
      " 7   TP_ST_CONCLUSAO         int64  \n",
      " 8   TP_ANO_CONCLUIU         int64  \n",
      " 9   TP_ESCOLA               int64  \n",
      " 10  TP_ENSINO               float64\n",
      " 11  IN_TREINEIRO            int64  \n",
      " 12  CO_MUNICIPIO_ESC        float64\n",
      " 13  NO_MUNICIPIO_ESC        object \n",
      " 14  CO_UF_ESC               float64\n",
      " 15  SG_UF_ESC               object \n",
      " 16  TP_DEPENDENCIA_ADM_ESC  float64\n",
      " 17  TP_LOCALIZACAO_ESC      float64\n",
      " 18  TP_SIT_FUNC_ESC         float64\n",
      " 19  CO_MUNICIPIO_PROVA      int64  \n",
      " 20  NO_MUNICIPIO_PROVA      object \n",
      " 21  CO_UF_PROVA             int64  \n",
      " 22  SG_UF_PROVA             object \n",
      " 23  TP_PRESENCA_CN          int64  \n",
      " 24  TP_PRESENCA_CH          int64  \n",
      " 25  TP_PRESENCA_LC          int64  \n",
      " 26  TP_PRESENCA_MT          int64  \n",
      " 27  CO_PROVA_CN             float64\n",
      " 28  CO_PROVA_CH             float64\n",
      " 29  CO_PROVA_LC             float64\n",
      " 30  CO_PROVA_MT             float64\n",
      " 31  NU_NOTA_CN              float64\n",
      " 32  NU_NOTA_CH              float64\n",
      " 33  NU_NOTA_LC              float64\n",
      " 34  NU_NOTA_MT              float64\n",
      " 35  TX_RESPOSTAS_CN         object \n",
      " 36  TX_RESPOSTAS_CH         object \n",
      " 37  TX_RESPOSTAS_LC         object \n",
      " 38  TX_RESPOSTAS_MT         object \n",
      " 39  TP_LINGUA               int64  \n",
      " 40  TX_GABARITO_CN          object \n",
      " 41  TX_GABARITO_CH          object \n",
      " 42  TX_GABARITO_LC          object \n",
      " 43  TX_GABARITO_MT          object \n",
      " 44  TP_STATUS_REDACAO       float64\n",
      " 45  NU_NOTA_COMP1           float64\n",
      " 46  NU_NOTA_COMP2           float64\n",
      " 47  NU_NOTA_COMP3           float64\n",
      " 48  NU_NOTA_COMP4           float64\n",
      " 49  NU_NOTA_COMP5           float64\n",
      " 50  NU_NOTA_REDACAO         float64\n",
      " 51  Q001                    object \n",
      " 52  Q002                    object \n",
      " 53  Q003                    object \n",
      " 54  Q004                    object \n",
      " 55  Q005                    float64\n",
      " 56  Q006                    object \n",
      " 57  Q007                    object \n",
      " 58  Q008                    object \n",
      " 59  Q009                    object \n",
      " 60  Q010                    object \n",
      " 61  Q011                    object \n",
      " 62  Q012                    object \n",
      " 63  Q013                    object \n",
      " 64  Q014                    object \n",
      " 65  Q015                    object \n",
      " 66  Q016                    object \n",
      " 67  Q017                    object \n",
      " 68  Q018                    object \n",
      " 69  Q019                    object \n",
      " 70  Q020                    object \n",
      " 71  Q021                    object \n",
      " 72  Q022                    object \n",
      " 73  Q023                    object \n",
      " 74  Q024                    object \n",
      " 75  Q025                    object \n",
      "dtypes: float64(22), int64(17), object(37)\n",
      "memory usage: 3.3+ GB\n"
     ]
    }
   ],
   "source": [
    "# informações das colunas\n",
    "df_enem.info()"
   ]
  },
  {
   "cell_type": "code",
   "execution_count": 9,
   "id": "22070616",
   "metadata": {},
   "outputs": [
    {
     "data": {
      "text/plain": [
       "['NU_INSCRICAO',\n",
       " 'NU_ANO',\n",
       " 'NU_NOTA_CN',\n",
       " 'NU_NOTA_CH',\n",
       " 'NU_NOTA_LC',\n",
       " 'NU_NOTA_MT',\n",
       " 'NU_NOTA_COMP1',\n",
       " 'NU_NOTA_COMP2',\n",
       " 'NU_NOTA_COMP3',\n",
       " 'NU_NOTA_COMP4',\n",
       " 'NU_NOTA_COMP5',\n",
       " 'NU_NOTA_REDACAO']"
      ]
     },
     "execution_count": 9,
     "metadata": {},
     "output_type": "execute_result"
    }
   ],
   "source": [
    "# Localizando as colunas que iniciam com 'NU'\n",
    "lista_colunas_com_nu = [coluna for coluna in df_enem.columns if 'NU' in coluna]\n",
    "lista_colunas_com_nu"
   ]
  },
  {
   "cell_type": "code",
   "execution_count": 10,
   "id": "615b9e80",
   "metadata": {},
   "outputs": [
    {
     "data": {
      "text/plain": [
       "['TX_RESPOSTAS_CN',\n",
       " 'TX_RESPOSTAS_CH',\n",
       " 'TX_RESPOSTAS_LC',\n",
       " 'TX_RESPOSTAS_MT',\n",
       " 'TX_GABARITO_CN',\n",
       " 'TX_GABARITO_CH',\n",
       " 'TX_GABARITO_LC',\n",
       " 'TX_GABARITO_MT']"
      ]
     },
     "execution_count": 10,
     "metadata": {},
     "output_type": "execute_result"
    }
   ],
   "source": [
    "# Removendo as colunas que não nos interessam. \n",
    "# Colunas de respostas das questões (que começam com 'TX_')\n",
    "\n",
    "colunas_questoes = [coluna for coluna in df_enem.columns if coluna.startswith('TX_')]\n",
    "colunas_questoes"
   ]
  },
  {
   "cell_type": "code",
   "execution_count": 11,
   "id": "a34853e6",
   "metadata": {},
   "outputs": [
    {
     "data": {
      "text/plain": [
       "['CO_MUNICIPIO_ESC',\n",
       " 'CO_UF_ESC',\n",
       " 'CO_MUNICIPIO_PROVA',\n",
       " 'CO_UF_PROVA',\n",
       " 'CO_PROVA_CN',\n",
       " 'CO_PROVA_CH',\n",
       " 'CO_PROVA_LC',\n",
       " 'CO_PROVA_MT']"
      ]
     },
     "execution_count": 11,
     "metadata": {},
     "output_type": "execute_result"
    }
   ],
   "source": [
    "# Removendo as colunas que não nos interessam. \n",
    "# Colunas de codigos (que começam com 'CO_')\n",
    "colunas_codigos = [coluna for coluna in df_enem.columns if coluna.startswith('CO_')]\n",
    "colunas_codigos\n"
   ]
  },
  {
   "cell_type": "code",
   "execution_count": 12,
   "id": "e3eb8c38",
   "metadata": {},
   "outputs": [
    {
     "data": {
      "text/plain": [
       "['CO_MUNICIPIO_ESC',\n",
       " 'NO_MUNICIPIO_ESC',\n",
       " 'CO_MUNICIPIO_PROVA',\n",
       " 'NO_MUNICIPIO_PROVA']"
      ]
     },
     "execution_count": 12,
     "metadata": {},
     "output_type": "execute_result"
    }
   ],
   "source": [
    "# Removendo as colunas que não nos interessam. \n",
    "# Analises por municipios\n",
    "colunas_municipio = [coluna for coluna in df_enem.columns if 'MUNICIPIO' in coluna]\n",
    "colunas_municipio"
   ]
  },
  {
   "cell_type": "code",
   "execution_count": 13,
   "id": "f19f6926",
   "metadata": {},
   "outputs": [],
   "source": [
    "# Removendo as colunas que não nos interessam:\n",
    "colunas_remover = colunas_questoes + colunas_codigos + colunas_municipio + ['NU_INSCRICAO', 'NU_ANO']\n",
    "df_enem = df_enem.drop(colunas_remover, axis=1)\n",
    "# df_enem.head()"
   ]
  },
  {
   "cell_type": "code",
   "execution_count": 14,
   "id": "088c55a0",
   "metadata": {},
   "outputs": [
    {
     "data": {
      "text/plain": [
       "(5783109, 56)"
      ]
     },
     "execution_count": 14,
     "metadata": {},
     "output_type": "execute_result"
    }
   ],
   "source": [
    "df_enem.shape"
   ]
  },
  {
   "cell_type": "markdown",
   "id": "b8cf89c2",
   "metadata": {},
   "source": [
    "## <font color=\"#4F7942\">Dicionário de Dados</font>\n",
    "-------\n",
    "\n",
    "TP_ESTADO_CIVIL\tEstado Civil\t\n",
    "        0\tNão informado  \t\n",
    "        1\tSolteiro(a)  \t\t\n",
    "\t\t2\tCasado(a)/Mora com companheiro(a)  \t\t\n",
    "\t\t3\tDivorciado(a)/Desquitado(a)/Separado(a)\t  \t\n",
    "\t\t4\tViúvo(a)  \t\t\n",
    "\n",
    "TP_COR_RACA\tCor/raça  \t\n",
    "        0\tNão declarado  \n",
    "\t\t1\tBranca  \n",
    "\t\t2\tPreta  \n",
    "\t\t3\tParda  \n",
    "\t\t4\tAmarela  \n",
    "\t\t5\tIndígena   \n",
    "\n",
    "TP_NACIONALIDADE\tNacionalidade  \t\n",
    "        0\tNão informado    \n",
    "\t\t1\tBrasileiro(a)  \n",
    "\t\t2\tBrasileiro(a) Naturalizado(a)  \n",
    "\t\t3\tEstrangeiro(a)  \n",
    "\t\t4\tBrasileiro(a) Nato(a), nascido(a) no exterior  \n",
    "  \n",
    "TP_ST_CONCLUSAO\tSituação de conclusão do Ensino Médio  \t\n",
    "        1\tJá concluí o Ensino Médio  \n",
    "\t\t2\tEstou cursando e concluirei o Ensino Médio em 2020  \n",
    "\t\t3\tEstou cursando e concluirei o Ensino Médio após 2020  \n",
    "\t\t4\tNão concluí e não estou cursando o Ensino Médio  \n",
    "        \n",
    "**Notas:**\n",
    "\n",
    "NU_NOTA_CN\tNota da prova de Ciências da Natureza  \n",
    "NU_NOTA_CH\tNota da prova de Ciências Humanas  \n",
    "NU_NOTA_LC\tNota da prova de Linguagens e Códigos  \n",
    "NU_NOTA_MT\tNota da prova de Matemática  \n",
    "NU_NOTA_REDACAO"
   ]
  },
  {
   "cell_type": "markdown",
   "id": "f199c0c7",
   "metadata": {},
   "source": [
    "## <font color=\"#4F7942\">Estatística descritiva</font> \n",
    "------"
   ]
  },
  {
   "cell_type": "code",
   "execution_count": 15,
   "id": "5e82780c",
   "metadata": {},
   "outputs": [
    {
     "data": {
      "text/html": [
       "<div>\n",
       "<style scoped>\n",
       "    .dataframe tbody tr th:only-of-type {\n",
       "        vertical-align: middle;\n",
       "    }\n",
       "\n",
       "    .dataframe tbody tr th {\n",
       "        vertical-align: top;\n",
       "    }\n",
       "\n",
       "    .dataframe thead th {\n",
       "        text-align: right;\n",
       "    }\n",
       "</style>\n",
       "<table border=\"1\" class=\"dataframe\">\n",
       "  <thead>\n",
       "    <tr style=\"text-align: right;\">\n",
       "      <th></th>\n",
       "      <th>TP_FAIXA_ETARIA</th>\n",
       "      <th>TP_ESTADO_CIVIL</th>\n",
       "      <th>TP_COR_RACA</th>\n",
       "      <th>TP_NACIONALIDADE</th>\n",
       "      <th>TP_ST_CONCLUSAO</th>\n",
       "      <th>TP_ANO_CONCLUIU</th>\n",
       "      <th>TP_ESCOLA</th>\n",
       "      <th>TP_ENSINO</th>\n",
       "      <th>IN_TREINEIRO</th>\n",
       "      <th>TP_DEPENDENCIA_ADM_ESC</th>\n",
       "      <th>TP_LOCALIZACAO_ESC</th>\n",
       "      <th>TP_SIT_FUNC_ESC</th>\n",
       "      <th>TP_PRESENCA_CN</th>\n",
       "      <th>TP_PRESENCA_CH</th>\n",
       "      <th>TP_PRESENCA_LC</th>\n",
       "      <th>TP_PRESENCA_MT</th>\n",
       "      <th>NU_NOTA_CN</th>\n",
       "      <th>NU_NOTA_CH</th>\n",
       "      <th>NU_NOTA_LC</th>\n",
       "      <th>NU_NOTA_MT</th>\n",
       "      <th>TP_LINGUA</th>\n",
       "      <th>TP_STATUS_REDACAO</th>\n",
       "      <th>NU_NOTA_COMP1</th>\n",
       "      <th>NU_NOTA_COMP2</th>\n",
       "      <th>NU_NOTA_COMP3</th>\n",
       "      <th>NU_NOTA_COMP4</th>\n",
       "      <th>NU_NOTA_COMP5</th>\n",
       "      <th>NU_NOTA_REDACAO</th>\n",
       "      <th>Q005</th>\n",
       "    </tr>\n",
       "  </thead>\n",
       "  <tbody>\n",
       "    <tr>\n",
       "      <th>count</th>\n",
       "      <td>5783109.00</td>\n",
       "      <td>5783109.00</td>\n",
       "      <td>5783109.00</td>\n",
       "      <td>5783109.00</td>\n",
       "      <td>5783109.00</td>\n",
       "      <td>5783109.00</td>\n",
       "      <td>5783109.00</td>\n",
       "      <td>1303446.00</td>\n",
       "      <td>5783109.00</td>\n",
       "      <td>904569.00</td>\n",
       "      <td>904569.00</td>\n",
       "      <td>904569.00</td>\n",
       "      <td>5783109.00</td>\n",
       "      <td>5783109.00</td>\n",
       "      <td>5783109.00</td>\n",
       "      <td>5783109.00</td>\n",
       "      <td>2597440.00</td>\n",
       "      <td>2754140.00</td>\n",
       "      <td>2754140.00</td>\n",
       "      <td>2597440.00</td>\n",
       "      <td>5783109.00</td>\n",
       "      <td>2754140.00</td>\n",
       "      <td>2754140.00</td>\n",
       "      <td>2754140.00</td>\n",
       "      <td>2754140.00</td>\n",
       "      <td>2754140.00</td>\n",
       "      <td>2754140.00</td>\n",
       "      <td>2754140.00</td>\n",
       "      <td>5687143.00</td>\n",
       "    </tr>\n",
       "    <tr>\n",
       "      <th>mean</th>\n",
       "      <td>6.40</td>\n",
       "      <td>1.10</td>\n",
       "      <td>2.15</td>\n",
       "      <td>1.03</td>\n",
       "      <td>1.45</td>\n",
       "      <td>3.32</td>\n",
       "      <td>1.28</td>\n",
       "      <td>1.01</td>\n",
       "      <td>0.10</td>\n",
       "      <td>2.44</td>\n",
       "      <td>1.03</td>\n",
       "      <td>1.01</td>\n",
       "      <td>0.45</td>\n",
       "      <td>0.48</td>\n",
       "      <td>0.48</td>\n",
       "      <td>0.45</td>\n",
       "      <td>490.41</td>\n",
       "      <td>511.15</td>\n",
       "      <td>523.80</td>\n",
       "      <td>520.58</td>\n",
       "      <td>0.54</td>\n",
       "      <td>1.11</td>\n",
       "      <td>119.73</td>\n",
       "      <td>121.89</td>\n",
       "      <td>110.34</td>\n",
       "      <td>123.49</td>\n",
       "      <td>97.96</td>\n",
       "      <td>573.41</td>\n",
       "      <td>3.71</td>\n",
       "    </tr>\n",
       "    <tr>\n",
       "      <th>std</th>\n",
       "      <td>4.17</td>\n",
       "      <td>0.48</td>\n",
       "      <td>1.01</td>\n",
       "      <td>0.21</td>\n",
       "      <td>0.69</td>\n",
       "      <td>4.54</td>\n",
       "      <td>0.52</td>\n",
       "      <td>0.08</td>\n",
       "      <td>0.30</td>\n",
       "      <td>0.91</td>\n",
       "      <td>0.18</td>\n",
       "      <td>0.18</td>\n",
       "      <td>0.50</td>\n",
       "      <td>0.50</td>\n",
       "      <td>0.50</td>\n",
       "      <td>0.50</td>\n",
       "      <td>80.00</td>\n",
       "      <td>96.22</td>\n",
       "      <td>74.55</td>\n",
       "      <td>117.31</td>\n",
       "      <td>0.50</td>\n",
       "      <td>0.73</td>\n",
       "      <td>33.30</td>\n",
       "      <td>50.66</td>\n",
       "      <td>44.47</td>\n",
       "      <td>38.31</td>\n",
       "      <td>58.87</td>\n",
       "      <td>199.82</td>\n",
       "      <td>1.47</td>\n",
       "    </tr>\n",
       "    <tr>\n",
       "      <th>min</th>\n",
       "      <td>1.00</td>\n",
       "      <td>0.00</td>\n",
       "      <td>0.00</td>\n",
       "      <td>0.00</td>\n",
       "      <td>1.00</td>\n",
       "      <td>0.00</td>\n",
       "      <td>1.00</td>\n",
       "      <td>1.00</td>\n",
       "      <td>0.00</td>\n",
       "      <td>1.00</td>\n",
       "      <td>1.00</td>\n",
       "      <td>1.00</td>\n",
       "      <td>0.00</td>\n",
       "      <td>0.00</td>\n",
       "      <td>0.00</td>\n",
       "      <td>0.00</td>\n",
       "      <td>0.00</td>\n",
       "      <td>0.00</td>\n",
       "      <td>0.00</td>\n",
       "      <td>0.00</td>\n",
       "      <td>0.00</td>\n",
       "      <td>1.00</td>\n",
       "      <td>0.00</td>\n",
       "      <td>0.00</td>\n",
       "      <td>0.00</td>\n",
       "      <td>0.00</td>\n",
       "      <td>0.00</td>\n",
       "      <td>0.00</td>\n",
       "      <td>1.00</td>\n",
       "    </tr>\n",
       "    <tr>\n",
       "      <th>25%</th>\n",
       "      <td>3.00</td>\n",
       "      <td>1.00</td>\n",
       "      <td>1.00</td>\n",
       "      <td>1.00</td>\n",
       "      <td>1.00</td>\n",
       "      <td>0.00</td>\n",
       "      <td>1.00</td>\n",
       "      <td>1.00</td>\n",
       "      <td>0.00</td>\n",
       "      <td>2.00</td>\n",
       "      <td>1.00</td>\n",
       "      <td>1.00</td>\n",
       "      <td>0.00</td>\n",
       "      <td>0.00</td>\n",
       "      <td>0.00</td>\n",
       "      <td>0.00</td>\n",
       "      <td>427.00</td>\n",
       "      <td>435.30</td>\n",
       "      <td>478.00</td>\n",
       "      <td>425.80</td>\n",
       "      <td>0.00</td>\n",
       "      <td>1.00</td>\n",
       "      <td>100.00</td>\n",
       "      <td>120.00</td>\n",
       "      <td>80.00</td>\n",
       "      <td>100.00</td>\n",
       "      <td>40.00</td>\n",
       "      <td>460.00</td>\n",
       "      <td>3.00</td>\n",
       "    </tr>\n",
       "    <tr>\n",
       "      <th>50%</th>\n",
       "      <td>5.00</td>\n",
       "      <td>1.00</td>\n",
       "      <td>2.00</td>\n",
       "      <td>1.00</td>\n",
       "      <td>1.00</td>\n",
       "      <td>1.00</td>\n",
       "      <td>1.00</td>\n",
       "      <td>1.00</td>\n",
       "      <td>0.00</td>\n",
       "      <td>2.00</td>\n",
       "      <td>1.00</td>\n",
       "      <td>1.00</td>\n",
       "      <td>0.00</td>\n",
       "      <td>0.00</td>\n",
       "      <td>0.00</td>\n",
       "      <td>0.00</td>\n",
       "      <td>483.70</td>\n",
       "      <td>512.50</td>\n",
       "      <td>529.90</td>\n",
       "      <td>505.10</td>\n",
       "      <td>1.00</td>\n",
       "      <td>1.00</td>\n",
       "      <td>120.00</td>\n",
       "      <td>120.00</td>\n",
       "      <td>120.00</td>\n",
       "      <td>120.00</td>\n",
       "      <td>100.00</td>\n",
       "      <td>580.00</td>\n",
       "      <td>4.00</td>\n",
       "    </tr>\n",
       "    <tr>\n",
       "      <th>75%</th>\n",
       "      <td>11.00</td>\n",
       "      <td>1.00</td>\n",
       "      <td>3.00</td>\n",
       "      <td>1.00</td>\n",
       "      <td>2.00</td>\n",
       "      <td>5.00</td>\n",
       "      <td>1.00</td>\n",
       "      <td>1.00</td>\n",
       "      <td>0.00</td>\n",
       "      <td>3.00</td>\n",
       "      <td>1.00</td>\n",
       "      <td>1.00</td>\n",
       "      <td>1.00</td>\n",
       "      <td>1.00</td>\n",
       "      <td>1.00</td>\n",
       "      <td>1.00</td>\n",
       "      <td>548.70</td>\n",
       "      <td>580.60</td>\n",
       "      <td>576.40</td>\n",
       "      <td>602.30</td>\n",
       "      <td>1.00</td>\n",
       "      <td>1.00</td>\n",
       "      <td>140.00</td>\n",
       "      <td>160.00</td>\n",
       "      <td>140.00</td>\n",
       "      <td>140.00</td>\n",
       "      <td>140.00</td>\n",
       "      <td>700.00</td>\n",
       "      <td>4.00</td>\n",
       "    </tr>\n",
       "    <tr>\n",
       "      <th>max</th>\n",
       "      <td>20.00</td>\n",
       "      <td>4.00</td>\n",
       "      <td>5.00</td>\n",
       "      <td>4.00</td>\n",
       "      <td>4.00</td>\n",
       "      <td>14.00</td>\n",
       "      <td>3.00</td>\n",
       "      <td>2.00</td>\n",
       "      <td>1.00</td>\n",
       "      <td>4.00</td>\n",
       "      <td>2.00</td>\n",
       "      <td>4.00</td>\n",
       "      <td>2.00</td>\n",
       "      <td>2.00</td>\n",
       "      <td>2.00</td>\n",
       "      <td>2.00</td>\n",
       "      <td>854.80</td>\n",
       "      <td>862.60</td>\n",
       "      <td>801.10</td>\n",
       "      <td>975.00</td>\n",
       "      <td>1.00</td>\n",
       "      <td>9.00</td>\n",
       "      <td>200.00</td>\n",
       "      <td>200.00</td>\n",
       "      <td>200.00</td>\n",
       "      <td>200.00</td>\n",
       "      <td>200.00</td>\n",
       "      <td>1000.00</td>\n",
       "      <td>20.00</td>\n",
       "    </tr>\n",
       "  </tbody>\n",
       "</table>\n",
       "</div>"
      ],
      "text/plain": [
       "       TP_FAIXA_ETARIA  TP_ESTADO_CIVIL  TP_COR_RACA  TP_NACIONALIDADE  \\\n",
       "count       5783109.00       5783109.00   5783109.00        5783109.00   \n",
       "mean              6.40             1.10         2.15              1.03   \n",
       "std               4.17             0.48         1.01              0.21   \n",
       "min               1.00             0.00         0.00              0.00   \n",
       "25%               3.00             1.00         1.00              1.00   \n",
       "50%               5.00             1.00         2.00              1.00   \n",
       "75%              11.00             1.00         3.00              1.00   \n",
       "max              20.00             4.00         5.00              4.00   \n",
       "\n",
       "       TP_ST_CONCLUSAO  TP_ANO_CONCLUIU  TP_ESCOLA  TP_ENSINO  IN_TREINEIRO  \\\n",
       "count       5783109.00       5783109.00 5783109.00 1303446.00    5783109.00   \n",
       "mean              1.45             3.32       1.28       1.01          0.10   \n",
       "std               0.69             4.54       0.52       0.08          0.30   \n",
       "min               1.00             0.00       1.00       1.00          0.00   \n",
       "25%               1.00             0.00       1.00       1.00          0.00   \n",
       "50%               1.00             1.00       1.00       1.00          0.00   \n",
       "75%               2.00             5.00       1.00       1.00          0.00   \n",
       "max               4.00            14.00       3.00       2.00          1.00   \n",
       "\n",
       "       TP_DEPENDENCIA_ADM_ESC  TP_LOCALIZACAO_ESC  TP_SIT_FUNC_ESC  \\\n",
       "count               904569.00           904569.00        904569.00   \n",
       "mean                     2.44                1.03             1.01   \n",
       "std                      0.91                0.18             0.18   \n",
       "min                      1.00                1.00             1.00   \n",
       "25%                      2.00                1.00             1.00   \n",
       "50%                      2.00                1.00             1.00   \n",
       "75%                      3.00                1.00             1.00   \n",
       "max                      4.00                2.00             4.00   \n",
       "\n",
       "       TP_PRESENCA_CN  TP_PRESENCA_CH  TP_PRESENCA_LC  TP_PRESENCA_MT  \\\n",
       "count      5783109.00      5783109.00      5783109.00      5783109.00   \n",
       "mean             0.45            0.48            0.48            0.45   \n",
       "std              0.50            0.50            0.50            0.50   \n",
       "min              0.00            0.00            0.00            0.00   \n",
       "25%              0.00            0.00            0.00            0.00   \n",
       "50%              0.00            0.00            0.00            0.00   \n",
       "75%              1.00            1.00            1.00            1.00   \n",
       "max              2.00            2.00            2.00            2.00   \n",
       "\n",
       "       NU_NOTA_CN  NU_NOTA_CH  NU_NOTA_LC  NU_NOTA_MT  TP_LINGUA  \\\n",
       "count  2597440.00  2754140.00  2754140.00  2597440.00 5783109.00   \n",
       "mean       490.41      511.15      523.80      520.58       0.54   \n",
       "std         80.00       96.22       74.55      117.31       0.50   \n",
       "min          0.00        0.00        0.00        0.00       0.00   \n",
       "25%        427.00      435.30      478.00      425.80       0.00   \n",
       "50%        483.70      512.50      529.90      505.10       1.00   \n",
       "75%        548.70      580.60      576.40      602.30       1.00   \n",
       "max        854.80      862.60      801.10      975.00       1.00   \n",
       "\n",
       "       TP_STATUS_REDACAO  NU_NOTA_COMP1  NU_NOTA_COMP2  NU_NOTA_COMP3  \\\n",
       "count         2754140.00     2754140.00     2754140.00     2754140.00   \n",
       "mean                1.11         119.73         121.89         110.34   \n",
       "std                 0.73          33.30          50.66          44.47   \n",
       "min                 1.00           0.00           0.00           0.00   \n",
       "25%                 1.00         100.00         120.00          80.00   \n",
       "50%                 1.00         120.00         120.00         120.00   \n",
       "75%                 1.00         140.00         160.00         140.00   \n",
       "max                 9.00         200.00         200.00         200.00   \n",
       "\n",
       "       NU_NOTA_COMP4  NU_NOTA_COMP5  NU_NOTA_REDACAO       Q005  \n",
       "count     2754140.00     2754140.00       2754140.00 5687143.00  \n",
       "mean          123.49          97.96           573.41       3.71  \n",
       "std            38.31          58.87           199.82       1.47  \n",
       "min             0.00           0.00             0.00       1.00  \n",
       "25%           100.00          40.00           460.00       3.00  \n",
       "50%           120.00         100.00           580.00       4.00  \n",
       "75%           140.00         140.00           700.00       4.00  \n",
       "max           200.00         200.00          1000.00      20.00  "
      ]
     },
     "execution_count": 15,
     "metadata": {},
     "output_type": "execute_result"
    }
   ],
   "source": [
    "df_enem.describe()"
   ]
  },
  {
   "cell_type": "code",
   "execution_count": 16,
   "id": "996af8e9",
   "metadata": {},
   "outputs": [
    {
     "data": {
      "text/plain": [
       "['NU_NOTA_CN', 'NU_NOTA_CH', 'NU_NOTA_LC', 'NU_NOTA_MT', 'NU_NOTA_REDACAO']"
      ]
     },
     "execution_count": 16,
     "metadata": {},
     "output_type": "execute_result"
    }
   ],
   "source": [
    "# Separando as colunas de NOTAS\n",
    "colunas_notas = [coluna for coluna in df_enem if 'NOTA' in coluna]\n",
    "colunas_notas = [coluna for coluna in colunas_notas if 'COMP' not in coluna]\n",
    "colunas_notas"
   ]
  },
  {
   "cell_type": "code",
   "execution_count": 31,
   "id": "d33e2e54",
   "metadata": {},
   "outputs": [
    {
     "data": {
      "image/png": "[encoded data removed]",
      "text/plain": [
       "<Figure size 576x432 with 4 Axes>"
      ]
     },
     "metadata": {},
     "output_type": "display_data"
    }
   ],
   "source": [
    "# Analisando as NOTAS\n",
    "\n",
    "sns.set_style(\"darkgrid\")\n",
    "figura, graficos = plt.subplots(1, 4, sharey=True, figsize=(8,6), tight_layout=True)\n",
    "\n",
    "\n",
    "cores = ['#2573bb','#bf67bf','#ff6479','#ffa600']\n",
    "for i in range(4):\n",
    "    coluna_1 = colunas_notas[i]\n",
    "    sns.boxplot(data=df_enem, y=coluna_1, ax=graficos[i], color=cores[i])"
   ]
  },
  {
   "cell_type": "code",
   "execution_count": 34,
   "id": "89ed29ff",
   "metadata": {},
   "outputs": [
    {
     "data": {
      "image/png": "[encoded data removed]",
      "text/plain": [
       "<Figure size 576x432 with 4 Axes>"
      ]
     },
     "metadata": {},
     "output_type": "display_data"
    }
   ],
   "source": [
    "# Analisando as distribuições das notas\n",
    "\n",
    "sns.set_style(\"darkgrid\")\n",
    "figura, graficos = plt.subplots(4, 1, sharex=True, figsize=(8,6), tight_layout=True)\n",
    "\n",
    "for i in range(4):\n",
    "    coluna_1 = colunas_notas[i]\n",
    "    sns.histplot(data=df_enem[coluna_1], ax=graficos[i], color=cores[i]).set_title(coluna_1)\n",
    "    \n"
   ]
  },
  {
   "cell_type": "code",
   "execution_count": 47,
   "id": "a457118b",
   "metadata": {},
   "outputs": [
    {
     "data": {
      "text/plain": [
       "Text(0.5, 1.0, 'Nota da Redação')"
      ]
     },
     "execution_count": 47,
     "metadata": {},
     "output_type": "execute_result"
    },
    {
     "data": {
      "image/png": "[encoded data removed]",
      "text/plain": [
       "<Figure size 576x216 with 1 Axes>"
      ]
     },
     "metadata": {},
     "output_type": "display_data"
    }
   ],
   "source": [
    "# Analisando as notas da redação - gráfico de densidade\n",
    "sns.set(rc={'figure.figsize':(8,3)})\n",
    "sns.kdeplot(data=df_enem['NU_NOTA_REDACAO']).set_title('Nota da Redação')"
   ]
  },
  {
   "cell_type": "markdown",
   "id": "ef60f10a",
   "metadata": {},
   "source": [
    "##  <font color=\"#4F7942\">Analisando as informações</font>\n",
    "----------"
   ]
  },
  {
   "cell_type": "markdown",
   "id": "f649c3f5",
   "metadata": {},
   "source": [
    "###  SEXO"
   ]
  },
  {
   "cell_type": "code",
   "execution_count": 4,
   "id": "22812aa3",
   "metadata": {},
   "outputs": [
    {
     "data": {
      "text/plain": [
       "F   59.98\n",
       "M   40.02\n",
       "Name: TP_SEXO, dtype: float64"
      ]
     },
     "execution_count": 4,
     "metadata": {},
     "output_type": "execute_result"
    }
   ],
   "source": [
    "# Analisando o sexo dos candidatos - em porcentagem\n",
    "df_enem['TP_SEXO'].value_counts(normalize=True)*100"
   ]
  },
  {
   "cell_type": "code",
   "execution_count": 50,
   "id": "4e2c1730",
   "metadata": {},
   "outputs": [
    {
     "data": {
      "text/plain": [
       "<AxesSubplot:xlabel='TP_SEXO', ylabel='count'>"
      ]
     },
     "execution_count": 50,
     "metadata": {},
     "output_type": "execute_result"
    },
    {
     "data": {
      "image/png": "[encoded data removed]",
      "text/plain": [
       "<Figure size 360x288 with 1 Axes>"
      ]
     },
     "metadata": {},
     "output_type": "display_data"
    }
   ],
   "source": [
    "# Gráfico F x M\n",
    "sns.set(rc={'figure.figsize':(5,4)})\n",
    "sns.countplot(data=df_enem, x='TP_SEXO', palette='Set1')"
   ]
  },
  {
   "cell_type": "markdown",
   "id": "d5e7dc31",
   "metadata": {},
   "source": [
    "### ESTADO CIVIL"
   ]
  },
  {
   "cell_type": "code",
   "execution_count": 51,
   "id": "9a0717ec",
   "metadata": {},
   "outputs": [
    {
     "data": {
      "text/plain": [
       "0     263848\n",
       "1    4851310\n",
       "2     527734\n",
       "3     131423\n",
       "4       8794\n",
       "Name: TP_ESTADO_CIVIL, dtype: int64"
      ]
     },
     "execution_count": 51,
     "metadata": {},
     "output_type": "execute_result"
    }
   ],
   "source": [
    "# Analisando o Estado Civil\n",
    "\n",
    "'''\n",
    "TP_ESTADO_CIVIL Estado Civil\n",
    "0 Não informado\n",
    "1 Solteiro(a)\n",
    "2 Casado(a)/Mora com companheiro(a)\n",
    "3 Divorciado(a)/Desquitado(a)/Separado(a)\n",
    "4 Viúvo(a)\n",
    "'''\n",
    "\n",
    "df_enem['TP_ESTADO_CIVIL'].value_counts().sort_index()"
   ]
  },
  {
   "cell_type": "code",
   "execution_count": 63,
   "id": "38b74cdd",
   "metadata": {},
   "outputs": [
    {
     "data": {
      "text/plain": [
       "<AxesSubplot:xlabel='TP_ESTADO_CIVIL', ylabel='count'>"
      ]
     },
     "execution_count": 63,
     "metadata": {},
     "output_type": "execute_result"
    },
    {
     "data": {
      "image/png": "[encoded data removed]",
      "text/plain": [
       "<Figure size 504x360 with 1 Axes>"
      ]
     },
     "metadata": {},
     "output_type": "display_data"
    }
   ],
   "source": [
    "sns.set(rc={'figure.figsize':(7,5)})\n",
    "sns.countplot(data=df_enem, x='TP_ESTADO_CIVIL', palette='Blues')"
   ]
  },
  {
   "cell_type": "markdown",
   "id": "84d865d8",
   "metadata": {},
   "source": [
    "### RAÇA"
   ]
  },
  {
   "cell_type": "code",
   "execution_count": 58,
   "id": "82db7437",
   "metadata": {},
   "outputs": [
    {
     "data": {
      "text/plain": [
       "0     116883\n",
       "1    2007633\n",
       "2     771740\n",
       "3    2720485\n",
       "4     128522\n",
       "5      37846\n",
       "Name: TP_COR_RACA, dtype: int64"
      ]
     },
     "execution_count": 58,
     "metadata": {},
     "output_type": "execute_result"
    }
   ],
   "source": [
    "# Analisando a raça\n",
    "'''\n",
    "TP_COR_RACA\tCor/raça \n",
    "0\tNão declarado  \n",
    "1\tBranca  \n",
    "2\tPreta  \n",
    "3\tParda  \n",
    "4\tAmarela  \n",
    "5\tIndígena  \n",
    "'''\n",
    "df_enem['TP_COR_RACA'].value_counts().sort_index()"
   ]
  },
  {
   "cell_type": "code",
   "execution_count": 64,
   "id": "f686132b",
   "metadata": {},
   "outputs": [
    {
     "data": {
      "text/plain": [
       "<AxesSubplot:xlabel='TP_COR_RACA', ylabel='count'>"
      ]
     },
     "execution_count": 64,
     "metadata": {},
     "output_type": "execute_result"
    },
    {
     "data": {
      "image/png": "[encoded data removed]",
      "text/plain": [
       "<Figure size 504x360 with 1 Axes>"
      ]
     },
     "metadata": {},
     "output_type": "display_data"
    }
   ],
   "source": [
    "sns.countplot(data=df_enem, x='TP_COR_RACA', palette='Blues')"
   ]
  },
  {
   "cell_type": "markdown",
   "id": "b936ade1",
   "metadata": {},
   "source": [
    "### UNIDADE FEDERATIVA"
   ]
  },
  {
   "cell_type": "code",
   "execution_count": 66,
   "id": "5737ad84",
   "metadata": {},
   "outputs": [
    {
     "data": {
      "text/plain": [
       "SP    167183\n",
       "CE    104981\n",
       "MG     71614\n",
       "RJ     62583\n",
       "PE     47583\n",
       "BA     47235\n",
       "PR     43060\n",
       "GO     39769\n",
       "RS     36478\n",
       "PA     33109\n",
       "AM     30120\n",
       "SC     27373\n",
       "MA     26104\n",
       "DF     19840\n",
       "PB     19760\n",
       "ES     18419\n",
       "PI     15738\n",
       "MT     14674\n",
       "RN     14327\n",
       "AL     13976\n",
       "MS     11851\n",
       "SE     10878\n",
       "RO      9927\n",
       "TO      8457\n",
       "AP      3565\n",
       "AC      3512\n",
       "RR      2453\n",
       "Name: SG_UF_ESC, dtype: int64"
      ]
     },
     "execution_count": 66,
     "metadata": {},
     "output_type": "execute_result"
    }
   ],
   "source": [
    "ufs = df_enem['SG_UF_ESC'].value_counts()\n",
    "ufs"
   ]
  },
  {
   "cell_type": "code",
   "execution_count": 67,
   "id": "66b09375",
   "metadata": {},
   "outputs": [
    {
     "data": {
      "text/html": [
       "<div>\n",
       "<style scoped>\n",
       "    .dataframe tbody tr th:only-of-type {\n",
       "        vertical-align: middle;\n",
       "    }\n",
       "\n",
       "    .dataframe tbody tr th {\n",
       "        vertical-align: top;\n",
       "    }\n",
       "\n",
       "    .dataframe thead th {\n",
       "        text-align: right;\n",
       "    }\n",
       "</style>\n",
       "<table border=\"1\" class=\"dataframe\">\n",
       "  <thead>\n",
       "    <tr style=\"text-align: right;\">\n",
       "      <th></th>\n",
       "      <th>uf</th>\n",
       "      <th>candidatos</th>\n",
       "    </tr>\n",
       "  </thead>\n",
       "  <tbody>\n",
       "    <tr>\n",
       "      <th>0</th>\n",
       "      <td>SP</td>\n",
       "      <td>167183</td>\n",
       "    </tr>\n",
       "    <tr>\n",
       "      <th>1</th>\n",
       "      <td>CE</td>\n",
       "      <td>104981</td>\n",
       "    </tr>\n",
       "    <tr>\n",
       "      <th>2</th>\n",
       "      <td>MG</td>\n",
       "      <td>71614</td>\n",
       "    </tr>\n",
       "    <tr>\n",
       "      <th>3</th>\n",
       "      <td>RJ</td>\n",
       "      <td>62583</td>\n",
       "    </tr>\n",
       "    <tr>\n",
       "      <th>4</th>\n",
       "      <td>PE</td>\n",
       "      <td>47583</td>\n",
       "    </tr>\n",
       "  </tbody>\n",
       "</table>\n",
       "</div>"
      ],
      "text/plain": [
       "   uf  candidatos\n",
       "0  SP      167183\n",
       "1  CE      104981\n",
       "2  MG       71614\n",
       "3  RJ       62583\n",
       "4  PE       47583"
      ]
     },
     "execution_count": 67,
     "metadata": {},
     "output_type": "execute_result"
    }
   ],
   "source": [
    "# transformando o 'value_conts()' das UFs acima em um novo DataFrame pandas:\n",
    "df_ufs = pd.DataFrame({'uf': ufs.index ,'candidatos': ufs.values})\n",
    "df_ufs.head()\n"
   ]
  },
  {
   "cell_type": "code",
   "execution_count": 78,
   "id": "db61c0f6",
   "metadata": {},
   "outputs": [
    {
     "data": {
      "application/vnd.plotly.v1+json": {
       "config": {
        "plotlyServerURL": "https://plot.ly"
       },
       "data": [
        {
         "branchvalues": "total",
         "customdata": [
          [
           3512
          ],
          [
           13976
          ],
          [
           30120
          ],
          [
           3565
          ],
          [
           47235
          ],
          [
           104981
          ],
          [
           19840
          ],
          [
           18419
          ],
          [
           39769
          ],
          [
           26104
          ],
          [
           71614
          ],
          [
           11851
          ],
          [
           14674
          ],
          [
           33109
          ],
          [
           19760
          ],
          [
           47583
          ],
          [
           15738
          ],
          [
           43060
          ],
          [
           62583
          ],
          [
           14327
          ],
          [
           9927
          ],
          [
           2453
          ],
          [
           36478
          ],
          [
           27373
          ],
          [
           10878
          ],
          [
           167183
          ],
          [
           8457
          ]
         ],
         "domain": {
          "x": [
           0,
           1
          ],
          "y": [
           0,
           1
          ]
         },
         "hovertemplate": "labels=%{label}<br>candidatos_sum=%{value}<br>parent=%{parent}<br>id=%{id}<br>candidatos=%{color}<extra></extra>",
         "ids": [
          "AC",
          "AL",
          "AM",
          "AP",
          "BA",
          "CE",
          "DF",
          "ES",
          "GO",
          "MA",
          "MG",
          "MS",
          "MT",
          "PA",
          "PB",
          "PE",
          "PI",
          "PR",
          "RJ",
          "RN",
          "RO",
          "RR",
          "RS",
          "SC",
          "SE",
          "SP",
          "TO"
         ],
         "labels": [
          "AC",
          "AL",
          "AM",
          "AP",
          "BA",
          "CE",
          "DF",
          "ES",
          "GO",
          "MA",
          "MG",
          "MS",
          "MT",
          "PA",
          "PB",
          "PE",
          "PI",
          "PR",
          "RJ",
          "RN",
          "RO",
          "RR",
          "RS",
          "SC",
          "SE",
          "SP",
          "TO"
         ],
         "marker": {
          "coloraxis": "coloraxis",
          "colors": [
           3512,
           13976,
           30120,
           3565,
           47235,
           104981,
           19840,
           18419,
           39769,
           26104,
           71614,
           11851,
           14674,
           33109,
           19760,
           47583,
           15738,
           43060,
           62583,
           14327,
           9927,
           2453,
           36478,
           27373,
           10878,
           167183,
           8457
          ]
         },
         "name": "",
         "parents": [
          "",
          "",
          "",
          "",
          "",
          "",
          "",
          "",
          "",
          "",
          "",
          "",
          "",
          "",
          "",
          "",
          "",
          "",
          "",
          "",
          "",
          "",
          "",
          "",
          "",
          "",
          ""
         ],
         "root": {
          "color": "lightgrey"
         },
         "type": "treemap",
         "values": [
          3512,
          13976,
          30120,
          3565,
          47235,
          104981,
          19840,
          18419,
          39769,
          26104,
          71614,
          11851,
          14674,
          33109,
          19760,
          47583,
          15738,
          43060,
          62583,
          14327,
          9927,
          2453,
          36478,
          27373,
          10878,
          167183,
          8457
         ]
        }
       ],
       "layout": {
        "coloraxis": {
         "colorbar": {
          "title": {
           "text": "candidatos"
          }
         },
         "colorscale": [
          [
           0,
           "rgb(103,0,31)"
          ],
          [
           0.1,
           "rgb(178,24,43)"
          ],
          [
           0.2,
           "rgb(214,96,77)"
          ],
          [
           0.3,
           "rgb(244,165,130)"
          ],
          [
           0.4,
           "rgb(253,219,199)"
          ],
          [
           0.5,
           "rgb(247,247,247)"
          ],
          [
           0.6,
           "rgb(209,229,240)"
          ],
          [
           0.7,
           "rgb(146,197,222)"
          ],
          [
           0.8,
           "rgb(67,147,195)"
          ],
          [
           0.9,
           "rgb(33,102,172)"
          ],
          [
           1,
           "rgb(5,48,97)"
          ]
         ]
        },
        "legend": {
         "tracegroupgap": 0
        },
        "margin": {
         "b": 25,
         "l": 25,
         "r": 25,
         "t": 50
        },
        "template": {
         "data": {
          "bar": [
           {
            "error_x": {
             "color": "#2a3f5f"
            },
            "error_y": {
             "color": "#2a3f5f"
            },
            "marker": {
             "line": {
              "color": "#E5ECF6",
              "width": 0.5
             },
             "pattern": {
              "fillmode": "overlay",
              "size": 10,
              "solidity": 0.2
             }
            },
            "type": "bar"
           }
          ],
          "barpolar": [
           {
            "marker": {
             "line": {
              "color": "#E5ECF6",
              "width": 0.5
             },
             "pattern": {
              "fillmode": "overlay",
              "size": 10,
              "solidity": 0.2
             }
            },
            "type": "barpolar"
           }
          ],
          "carpet": [
           {
            "aaxis": {
             "endlinecolor": "#2a3f5f",
             "gridcolor": "white",
             "linecolor": "white",
             "minorgridcolor": "white",
             "startlinecolor": "#2a3f5f"
            },
            "baxis": {
             "endlinecolor": "#2a3f5f",
             "gridcolor": "white",
             "linecolor": "white",
             "minorgridcolor": "white",
             "startlinecolor": "#2a3f5f"
            },
            "type": "carpet"
           }
          ],
          "choropleth": [
           {
            "colorbar": {
             "outlinewidth": 0,
             "ticks": ""
            },
            "type": "choropleth"
           }
          ],
          "contour": [
           {
            "colorbar": {
             "outlinewidth": 0,
             "ticks": ""
            },
            "colorscale": [
             [
              0,
              "#0d0887"
             ],
             [
              0.1111111111111111,
              "#46039f"
             ],
             [
              0.2222222222222222,
              "#7201a8"
             ],
             [
              0.3333333333333333,
              "#9c179e"
             ],
             [
              0.4444444444444444,
              "#bd3786"
             ],
             [
              0.5555555555555556,
              "#d8576b"
             ],
             [
              0.6666666666666666,
              "#ed7953"
             ],
             [
              0.7777777777777778,
              "#fb9f3a"
             ],
             [
              0.8888888888888888,
              "#fdca26"
             ],
             [
              1,
              "#f0f921"
             ]
            ],
            "type": "contour"
           }
          ],
          "contourcarpet": [
           {
            "colorbar": {
             "outlinewidth": 0,
             "ticks": ""
            },
            "type": "contourcarpet"
           }
          ],
          "heatmap": [
           {
            "colorbar": {
             "outlinewidth": 0,
             "ticks": ""
            },
            "colorscale": [
             [
              0,
              "#0d0887"
             ],
             [
              0.1111111111111111,
              "#46039f"
             ],
             [
              0.2222222222222222,
              "#7201a8"
             ],
             [
              0.3333333333333333,
              "#9c179e"
             ],
             [
              0.4444444444444444,
              "#bd3786"
             ],
             [
              0.5555555555555556,
              "#d8576b"
             ],
             [
              0.6666666666666666,
              "#ed7953"
             ],
             [
              0.7777777777777778,
              "#fb9f3a"
             ],
             [
              0.8888888888888888,
              "#fdca26"
             ],
             [
              1,
              "#f0f921"
             ]
            ],
            "type": "heatmap"
           }
          ],
          "heatmapgl": [
           {
            "colorbar": {
             "outlinewidth": 0,
             "ticks": ""
            },
            "colorscale": [
             [
              0,
              "#0d0887"
             ],
             [
              0.1111111111111111,
              "#46039f"
             ],
             [
              0.2222222222222222,
              "#7201a8"
             ],
             [
              0.3333333333333333,
              "#9c179e"
             ],
             [
              0.4444444444444444,
              "#bd3786"
             ],
             [
              0.5555555555555556,
              "#d8576b"
             ],
             [
              0.6666666666666666,
              "#ed7953"
             ],
             [
              0.7777777777777778,
              "#fb9f3a"
             ],
             [
              0.8888888888888888,
              "#fdca26"
             ],
             [
              1,
              "#f0f921"
             ]
            ],
            "type": "heatmapgl"
           }
          ],
          "histogram": [
           {
            "marker": {
             "pattern": {
              "fillmode": "overlay",
              "size": 10,
              "solidity": 0.2
             }
            },
            "type": "histogram"
           }
          ],
          "histogram2d": [
           {
            "colorbar": {
             "outlinewidth": 0,
             "ticks": ""
            },
            "colorscale": [
             [
              0,
              "#0d0887"
             ],
             [
              0.1111111111111111,
              "#46039f"
             ],
             [
              0.2222222222222222,
              "#7201a8"
             ],
             [
              0.3333333333333333,
              "#9c179e"
             ],
             [
              0.4444444444444444,
              "#bd3786"
             ],
             [
              0.5555555555555556,
              "#d8576b"
             ],
             [
              0.6666666666666666,
              "#ed7953"
             ],
             [
              0.7777777777777778,
              "#fb9f3a"
             ],
             [
              0.8888888888888888,
              "#fdca26"
             ],
             [
              1,
              "#f0f921"
             ]
            ],
            "type": "histogram2d"
           }
          ],
          "histogram2dcontour": [
           {
            "colorbar": {
             "outlinewidth": 0,
             "ticks": ""
            },
            "colorscale": [
             [
              0,
              "#0d0887"
             ],
             [
              0.1111111111111111,
              "#46039f"
             ],
             [
              0.2222222222222222,
              "#7201a8"
             ],
             [
              0.3333333333333333,
              "#9c179e"
             ],
             [
              0.4444444444444444,
              "#bd3786"
             ],
             [
              0.5555555555555556,
              "#d8576b"
             ],
             [
              0.6666666666666666,
              "#ed7953"
             ],
             [
              0.7777777777777778,
              "#fb9f3a"
             ],
             [
              0.8888888888888888,
              "#fdca26"
             ],
             [
              1,
              "#f0f921"
             ]
            ],
            "type": "histogram2dcontour"
           }
          ],
          "mesh3d": [
           {
            "colorbar": {
             "outlinewidth": 0,
             "ticks": ""
            },
            "type": "mesh3d"
           }
          ],
          "parcoords": [
           {
            "line": {
             "colorbar": {
              "outlinewidth": 0,
              "ticks": ""
             }
            },
            "type": "parcoords"
           }
          ],
          "pie": [
           {
            "automargin": true,
            "type": "pie"
           }
          ],
          "scatter": [
           {
            "marker": {
             "colorbar": {
              "outlinewidth": 0,
              "ticks": ""
             }
            },
            "type": "scatter"
           }
          ],
          "scatter3d": [
           {
            "line": {
             "colorbar": {
              "outlinewidth": 0,
              "ticks": ""
             }
            },
            "marker": {
             "colorbar": {
              "outlinewidth": 0,
              "ticks": ""
             }
            },
            "type": "scatter3d"
           }
          ],
          "scattercarpet": [
           {
            "marker": {
             "colorbar": {
              "outlinewidth": 0,
              "ticks": ""
             }
            },
            "type": "scattercarpet"
           }
          ],
          "scattergeo": [
           {
            "marker": {
             "colorbar": {
              "outlinewidth": 0,
              "ticks": ""
             }
            },
            "type": "scattergeo"
           }
          ],
          "scattergl": [
           {
            "marker": {
             "colorbar": {
              "outlinewidth": 0,
              "ticks": ""
             }
            },
            "type": "scattergl"
           }
          ],
          "scattermapbox": [
           {
            "marker": {
             "colorbar": {
              "outlinewidth": 0,
              "ticks": ""
             }
            },
            "type": "scattermapbox"
           }
          ],
          "scatterpolar": [
           {
            "marker": {
             "colorbar": {
              "outlinewidth": 0,
              "ticks": ""
             }
            },
            "type": "scatterpolar"
           }
          ],
          "scatterpolargl": [
           {
            "marker": {
             "colorbar": {
              "outlinewidth": 0,
              "ticks": ""
             }
            },
            "type": "scatterpolargl"
           }
          ],
          "scatterternary": [
           {
            "marker": {
             "colorbar": {
              "outlinewidth": 0,
              "ticks": ""
             }
            },
            "type": "scatterternary"
           }
          ],
          "surface": [
           {
            "colorbar": {
             "outlinewidth": 0,
             "ticks": ""
            },
            "colorscale": [
             [
              0,
              "#0d0887"
             ],
             [
              0.1111111111111111,
              "#46039f"
             ],
             [
              0.2222222222222222,
              "#7201a8"
             ],
             [
              0.3333333333333333,
              "#9c179e"
             ],
             [
              0.4444444444444444,
              "#bd3786"
             ],
             [
              0.5555555555555556,
              "#d8576b"
             ],
             [
              0.6666666666666666,
              "#ed7953"
             ],
             [
              0.7777777777777778,
              "#fb9f3a"
             ],
             [
              0.8888888888888888,
              "#fdca26"
             ],
             [
              1,
              "#f0f921"
             ]
            ],
            "type": "surface"
           }
          ],
          "table": [
           {
            "cells": {
             "fill": {
              "color": "#EBF0F8"
             },
             "line": {
              "color": "white"
             }
            },
            "header": {
             "fill": {
              "color": "#C8D4E3"
             },
             "line": {
              "color": "white"
             }
            },
            "type": "table"
           }
          ]
         },
         "layout": {
          "annotationdefaults": {
           "arrowcolor": "#2a3f5f",
           "arrowhead": 0,
           "arrowwidth": 1
          },
          "autotypenumbers": "strict",
          "coloraxis": {
           "colorbar": {
            "outlinewidth": 0,
            "ticks": ""
           }
          },
          "colorscale": {
           "diverging": [
            [
             0,
             "#8e0152"
            ],
            [
             0.1,
             "#c51b7d"
            ],
            [
             0.2,
             "#de77ae"
            ],
            [
             0.3,
             "#f1b6da"
            ],
            [
             0.4,
             "#fde0ef"
            ],
            [
             0.5,
             "#f7f7f7"
            ],
            [
             0.6,
             "#e6f5d0"
            ],
            [
             0.7,
             "#b8e186"
            ],
            [
             0.8,
             "#7fbc41"
            ],
            [
             0.9,
             "#4d9221"
            ],
            [
             1,
             "#276419"
            ]
           ],
           "sequential": [
            [
             0,
             "#0d0887"
            ],
            [
             0.1111111111111111,
             "#46039f"
            ],
            [
             0.2222222222222222,
             "#7201a8"
            ],
            [
             0.3333333333333333,
             "#9c179e"
            ],
            [
             0.4444444444444444,
             "#bd3786"
            ],
            [
             0.5555555555555556,
             "#d8576b"
            ],
            [
             0.6666666666666666,
             "#ed7953"
            ],
            [
             0.7777777777777778,
             "#fb9f3a"
            ],
            [
             0.8888888888888888,
             "#fdca26"
            ],
            [
             1,
             "#f0f921"
            ]
           ],
           "sequentialminus": [
            [
             0,
             "#0d0887"
            ],
            [
             0.1111111111111111,
             "#46039f"
            ],
            [
             0.2222222222222222,
             "#7201a8"
            ],
            [
             0.3333333333333333,
             "#9c179e"
            ],
            [
             0.4444444444444444,
             "#bd3786"
            ],
            [
             0.5555555555555556,
             "#d8576b"
            ],
            [
             0.6666666666666666,
             "#ed7953"
            ],
            [
             0.7777777777777778,
             "#fb9f3a"
            ],
            [
             0.8888888888888888,
             "#fdca26"
            ],
            [
             1,
             "#f0f921"
            ]
           ]
          },
          "colorway": [
           "#636efa",
           "#EF553B",
           "#00cc96",
           "#ab63fa",
           "#FFA15A",
           "#19d3f3",
           "#FF6692",
           "#B6E880",
           "#FF97FF",
           "#FECB52"
          ],
          "font": {
           "color": "#2a3f5f"
          },
          "geo": {
           "bgcolor": "white",
           "lakecolor": "white",
           "landcolor": "#E5ECF6",
           "showlakes": true,
           "showland": true,
           "subunitcolor": "white"
          },
          "hoverlabel": {
           "align": "left"
          },
          "hovermode": "closest",
          "mapbox": {
           "style": "light"
          },
          "paper_bgcolor": "white",
          "plot_bgcolor": "#E5ECF6",
          "polar": {
           "angularaxis": {
            "gridcolor": "white",
            "linecolor": "white",
            "ticks": ""
           },
           "bgcolor": "#E5ECF6",
           "radialaxis": {
            "gridcolor": "white",
            "linecolor": "white",
            "ticks": ""
           }
          },
          "scene": {
           "xaxis": {
            "backgroundcolor": "#E5ECF6",
            "gridcolor": "white",
            "gridwidth": 2,
            "linecolor": "white",
            "showbackground": true,
            "ticks": "",
            "zerolinecolor": "white"
           },
           "yaxis": {
            "backgroundcolor": "#E5ECF6",
            "gridcolor": "white",
            "gridwidth": 2,
            "linecolor": "white",
            "showbackground": true,
            "ticks": "",
            "zerolinecolor": "white"
           },
           "zaxis": {
            "backgroundcolor": "#E5ECF6",
            "gridcolor": "white",
            "gridwidth": 2,
            "linecolor": "white",
            "showbackground": true,
            "ticks": "",
            "zerolinecolor": "white"
           }
          },
          "shapedefaults": {
           "line": {
            "color": "#2a3f5f"
           }
          },
          "ternary": {
           "aaxis": {
            "gridcolor": "white",
            "linecolor": "white",
            "ticks": ""
           },
           "baxis": {
            "gridcolor": "white",
            "linecolor": "white",
            "ticks": ""
           },
           "bgcolor": "#E5ECF6",
           "caxis": {
            "gridcolor": "white",
            "linecolor": "white",
            "ticks": ""
           }
          },
          "title": {
           "x": 0.05
          },
          "xaxis": {
           "automargin": true,
           "gridcolor": "white",
           "linecolor": "white",
           "ticks": "",
           "title": {
            "standoff": 15
           },
           "zerolinecolor": "white",
           "zerolinewidth": 2
          },
          "yaxis": {
           "automargin": true,
           "gridcolor": "white",
           "linecolor": "white",
           "ticks": "",
           "title": {
            "standoff": 15
           },
           "zerolinecolor": "white",
           "zerolinewidth": 2
          }
         }
        }
       }
      },
      "text/html": [
       "<div>                            <div id=\"f5692d18-05d7-435b-8668-360df9c80aab\" class=\"plotly-graph-div\" style=\"height:525px; width:100%;\"></div>            <script type=\"text/javascript\">                require([\"plotly\"], function(Plotly) {                    window.PLOTLYENV=window.PLOTLYENV || {};                                    if (document.getElementById(\"f5692d18-05d7-435b-8668-360df9c80aab\")) {                    Plotly.newPlot(                        \"f5692d18-05d7-435b-8668-360df9c80aab\",                        [{\"branchvalues\":\"total\",\"customdata\":[[3512.0],[13976.0],[30120.0],[3565.0],[47235.0],[104981.0],[19840.0],[18419.0],[39769.0],[26104.0],[71614.0],[11851.0],[14674.0],[33109.0],[19760.0],[47583.0],[15738.0],[43060.0],[62583.0],[14327.0],[9927.0],[2453.0],[36478.0],[27373.0],[10878.0],[167183.0],[8457.0]],\"domain\":{\"x\":[0.0,1.0],\"y\":[0.0,1.0]},\"hovertemplate\":\"labels=%{label}<br>candidatos_sum=%{value}<br>parent=%{parent}<br>id=%{id}<br>candidatos=%{color}<extra></extra>\",\"ids\":[\"AC\",\"AL\",\"AM\",\"AP\",\"BA\",\"CE\",\"DF\",\"ES\",\"GO\",\"MA\",\"MG\",\"MS\",\"MT\",\"PA\",\"PB\",\"PE\",\"PI\",\"PR\",\"RJ\",\"RN\",\"RO\",\"RR\",\"RS\",\"SC\",\"SE\",\"SP\",\"TO\"],\"labels\":[\"AC\",\"AL\",\"AM\",\"AP\",\"BA\",\"CE\",\"DF\",\"ES\",\"GO\",\"MA\",\"MG\",\"MS\",\"MT\",\"PA\",\"PB\",\"PE\",\"PI\",\"PR\",\"RJ\",\"RN\",\"RO\",\"RR\",\"RS\",\"SC\",\"SE\",\"SP\",\"TO\"],\"marker\":{\"coloraxis\":\"coloraxis\",\"colors\":[3512.0,13976.0,30120.0,3565.0,47235.0,104981.0,19840.0,18419.0,39769.0,26104.0,71614.0,11851.0,14674.0,33109.0,19760.0,47583.0,15738.0,43060.0,62583.0,14327.0,9927.0,2453.0,36478.0,27373.0,10878.0,167183.0,8457.0]},\"name\":\"\",\"parents\":[\"\",\"\",\"\",\"\",\"\",\"\",\"\",\"\",\"\",\"\",\"\",\"\",\"\",\"\",\"\",\"\",\"\",\"\",\"\",\"\",\"\",\"\",\"\",\"\",\"\",\"\",\"\"],\"values\":[3512,13976,30120,3565,47235,104981,19840,18419,39769,26104,71614,11851,14674,33109,19760,47583,15738,43060,62583,14327,9927,2453,36478,27373,10878,167183,8457],\"type\":\"treemap\",\"root\":{\"color\":\"lightgrey\"}}],                        {\"template\":{\"data\":{\"bar\":[{\"error_x\":{\"color\":\"#2a3f5f\"},\"error_y\":{\"color\":\"#2a3f5f\"},\"marker\":{\"line\":{\"color\":\"#E5ECF6\",\"width\":0.5},\"pattern\":{\"fillmode\":\"overlay\",\"size\":10,\"solidity\":0.2}},\"type\":\"bar\"}],\"barpolar\":[{\"marker\":{\"line\":{\"color\":\"#E5ECF6\",\"width\":0.5},\"pattern\":{\"fillmode\":\"overlay\",\"size\":10,\"solidity\":0.2}},\"type\":\"barpolar\"}],\"carpet\":[{\"aaxis\":{\"endlinecolor\":\"#2a3f5f\",\"gridcolor\":\"white\",\"linecolor\":\"white\",\"minorgridcolor\":\"white\",\"startlinecolor\":\"#2a3f5f\"},\"baxis\":{\"endlinecolor\":\"#2a3f5f\",\"gridcolor\":\"white\",\"linecolor\":\"white\",\"minorgridcolor\":\"white\",\"startlinecolor\":\"#2a3f5f\"},\"type\":\"carpet\"}],\"choropleth\":[{\"colorbar\":{\"outlinewidth\":0,\"ticks\":\"\"},\"type\":\"choropleth\"}],\"contour\":[{\"colorbar\":{\"outlinewidth\":0,\"ticks\":\"\"},\"colorscale\":[[0.0,\"#0d0887\"],[0.1111111111111111,\"#46039f\"],[0.2222222222222222,\"#7201a8\"],[0.3333333333333333,\"#9c179e\"],[0.4444444444444444,\"#bd3786\"],[0.5555555555555556,\"#d8576b\"],[0.6666666666666666,\"#ed7953\"],[0.7777777777777778,\"#fb9f3a\"],[0.8888888888888888,\"#fdca26\"],[1.0,\"#f0f921\"]],\"type\":\"contour\"}],\"contourcarpet\":[{\"colorbar\":{\"outlinewidth\":0,\"ticks\":\"\"},\"type\":\"contourcarpet\"}],\"heatmap\":[{\"colorbar\":{\"outlinewidth\":0,\"ticks\":\"\"},\"colorscale\":[[0.0,\"#0d0887\"],[0.1111111111111111,\"#46039f\"],[0.2222222222222222,\"#7201a8\"],[0.3333333333333333,\"#9c179e\"],[0.4444444444444444,\"#bd3786\"],[0.5555555555555556,\"#d8576b\"],[0.6666666666666666,\"#ed7953\"],[0.7777777777777778,\"#fb9f3a\"],[0.8888888888888888,\"#fdca26\"],[1.0,\"#f0f921\"]],\"type\":\"heatmap\"}],\"heatmapgl\":[{\"colorbar\":{\"outlinewidth\":0,\"ticks\":\"\"},\"colorscale\":[[0.0,\"#0d0887\"],[0.1111111111111111,\"#46039f\"],[0.2222222222222222,\"#7201a8\"],[0.3333333333333333,\"#9c179e\"],[0.4444444444444444,\"#bd3786\"],[0.5555555555555556,\"#d8576b\"],[0.6666666666666666,\"#ed7953\"],[0.7777777777777778,\"#fb9f3a\"],[0.8888888888888888,\"#fdca26\"],[1.0,\"#f0f921\"]],\"type\":\"heatmapgl\"}],\"histogram\":[{\"marker\":{\"pattern\":{\"fillmode\":\"overlay\",\"size\":10,\"solidity\":0.2}},\"type\":\"histogram\"}],\"histogram2d\":[{\"colorbar\":{\"outlinewidth\":0,\"ticks\":\"\"},\"colorscale\":[[0.0,\"#0d0887\"],[0.1111111111111111,\"#46039f\"],[0.2222222222222222,\"#7201a8\"],[0.3333333333333333,\"#9c179e\"],[0.4444444444444444,\"#bd3786\"],[0.5555555555555556,\"#d8576b\"],[0.6666666666666666,\"#ed7953\"],[0.7777777777777778,\"#fb9f3a\"],[0.8888888888888888,\"#fdca26\"],[1.0,\"#f0f921\"]],\"type\":\"histogram2d\"}],\"histogram2dcontour\":[{\"colorbar\":{\"outlinewidth\":0,\"ticks\":\"\"},\"colorscale\":[[0.0,\"#0d0887\"],[0.1111111111111111,\"#46039f\"],[0.2222222222222222,\"#7201a8\"],[0.3333333333333333,\"#9c179e\"],[0.4444444444444444,\"#bd3786\"],[0.5555555555555556,\"#d8576b\"],[0.6666666666666666,\"#ed7953\"],[0.7777777777777778,\"#fb9f3a\"],[0.8888888888888888,\"#fdca26\"],[1.0,\"#f0f921\"]],\"type\":\"histogram2dcontour\"}],\"mesh3d\":[{\"colorbar\":{\"outlinewidth\":0,\"ticks\":\"\"},\"type\":\"mesh3d\"}],\"parcoords\":[{\"line\":{\"colorbar\":{\"outlinewidth\":0,\"ticks\":\"\"}},\"type\":\"parcoords\"}],\"pie\":[{\"automargin\":true,\"type\":\"pie\"}],\"scatter\":[{\"marker\":{\"colorbar\":{\"outlinewidth\":0,\"ticks\":\"\"}},\"type\":\"scatter\"}],\"scatter3d\":[{\"line\":{\"colorbar\":{\"outlinewidth\":0,\"ticks\":\"\"}},\"marker\":{\"colorbar\":{\"outlinewidth\":0,\"ticks\":\"\"}},\"type\":\"scatter3d\"}],\"scattercarpet\":[{\"marker\":{\"colorbar\":{\"outlinewidth\":0,\"ticks\":\"\"}},\"type\":\"scattercarpet\"}],\"scattergeo\":[{\"marker\":{\"colorbar\":{\"outlinewidth\":0,\"ticks\":\"\"}},\"type\":\"scattergeo\"}],\"scattergl\":[{\"marker\":{\"colorbar\":{\"outlinewidth\":0,\"ticks\":\"\"}},\"type\":\"scattergl\"}],\"scattermapbox\":[{\"marker\":{\"colorbar\":{\"outlinewidth\":0,\"ticks\":\"\"}},\"type\":\"scattermapbox\"}],\"scatterpolar\":[{\"marker\":{\"colorbar\":{\"outlinewidth\":0,\"ticks\":\"\"}},\"type\":\"scatterpolar\"}],\"scatterpolargl\":[{\"marker\":{\"colorbar\":{\"outlinewidth\":0,\"ticks\":\"\"}},\"type\":\"scatterpolargl\"}],\"scatterternary\":[{\"marker\":{\"colorbar\":{\"outlinewidth\":0,\"ticks\":\"\"}},\"type\":\"scatterternary\"}],\"surface\":[{\"colorbar\":{\"outlinewidth\":0,\"ticks\":\"\"},\"colorscale\":[[0.0,\"#0d0887\"],[0.1111111111111111,\"#46039f\"],[0.2222222222222222,\"#7201a8\"],[0.3333333333333333,\"#9c179e\"],[0.4444444444444444,\"#bd3786\"],[0.5555555555555556,\"#d8576b\"],[0.6666666666666666,\"#ed7953\"],[0.7777777777777778,\"#fb9f3a\"],[0.8888888888888888,\"#fdca26\"],[1.0,\"#f0f921\"]],\"type\":\"surface\"}],\"table\":[{\"cells\":{\"fill\":{\"color\":\"#EBF0F8\"},\"line\":{\"color\":\"white\"}},\"header\":{\"fill\":{\"color\":\"#C8D4E3\"},\"line\":{\"color\":\"white\"}},\"type\":\"table\"}]},\"layout\":{\"annotationdefaults\":{\"arrowcolor\":\"#2a3f5f\",\"arrowhead\":0,\"arrowwidth\":1},\"autotypenumbers\":\"strict\",\"coloraxis\":{\"colorbar\":{\"outlinewidth\":0,\"ticks\":\"\"}},\"colorscale\":{\"diverging\":[[0,\"#8e0152\"],[0.1,\"#c51b7d\"],[0.2,\"#de77ae\"],[0.3,\"#f1b6da\"],[0.4,\"#fde0ef\"],[0.5,\"#f7f7f7\"],[0.6,\"#e6f5d0\"],[0.7,\"#b8e186\"],[0.8,\"#7fbc41\"],[0.9,\"#4d9221\"],[1,\"#276419\"]],\"sequential\":[[0.0,\"#0d0887\"],[0.1111111111111111,\"#46039f\"],[0.2222222222222222,\"#7201a8\"],[0.3333333333333333,\"#9c179e\"],[0.4444444444444444,\"#bd3786\"],[0.5555555555555556,\"#d8576b\"],[0.6666666666666666,\"#ed7953\"],[0.7777777777777778,\"#fb9f3a\"],[0.8888888888888888,\"#fdca26\"],[1.0,\"#f0f921\"]],\"sequentialminus\":[[0.0,\"#0d0887\"],[0.1111111111111111,\"#46039f\"],[0.2222222222222222,\"#7201a8\"],[0.3333333333333333,\"#9c179e\"],[0.4444444444444444,\"#bd3786\"],[0.5555555555555556,\"#d8576b\"],[0.6666666666666666,\"#ed7953\"],[0.7777777777777778,\"#fb9f3a\"],[0.8888888888888888,\"#fdca26\"],[1.0,\"#f0f921\"]]},\"colorway\":[\"#636efa\",\"#EF553B\",\"#00cc96\",\"#ab63fa\",\"#FFA15A\",\"#19d3f3\",\"#FF6692\",\"#B6E880\",\"#FF97FF\",\"#FECB52\"],\"font\":{\"color\":\"#2a3f5f\"},\"geo\":{\"bgcolor\":\"white\",\"lakecolor\":\"white\",\"landcolor\":\"#E5ECF6\",\"showlakes\":true,\"showland\":true,\"subunitcolor\":\"white\"},\"hoverlabel\":{\"align\":\"left\"},\"hovermode\":\"closest\",\"mapbox\":{\"style\":\"light\"},\"paper_bgcolor\":\"white\",\"plot_bgcolor\":\"#E5ECF6\",\"polar\":{\"angularaxis\":{\"gridcolor\":\"white\",\"linecolor\":\"white\",\"ticks\":\"\"},\"bgcolor\":\"#E5ECF6\",\"radialaxis\":{\"gridcolor\":\"white\",\"linecolor\":\"white\",\"ticks\":\"\"}},\"scene\":{\"xaxis\":{\"backgroundcolor\":\"#E5ECF6\",\"gridcolor\":\"white\",\"gridwidth\":2,\"linecolor\":\"white\",\"showbackground\":true,\"ticks\":\"\",\"zerolinecolor\":\"white\"},\"yaxis\":{\"backgroundcolor\":\"#E5ECF6\",\"gridcolor\":\"white\",\"gridwidth\":2,\"linecolor\":\"white\",\"showbackground\":true,\"ticks\":\"\",\"zerolinecolor\":\"white\"},\"zaxis\":{\"backgroundcolor\":\"#E5ECF6\",\"gridcolor\":\"white\",\"gridwidth\":2,\"linecolor\":\"white\",\"showbackground\":true,\"ticks\":\"\",\"zerolinecolor\":\"white\"}},\"shapedefaults\":{\"line\":{\"color\":\"#2a3f5f\"}},\"ternary\":{\"aaxis\":{\"gridcolor\":\"white\",\"linecolor\":\"white\",\"ticks\":\"\"},\"baxis\":{\"gridcolor\":\"white\",\"linecolor\":\"white\",\"ticks\":\"\"},\"bgcolor\":\"#E5ECF6\",\"caxis\":{\"gridcolor\":\"white\",\"linecolor\":\"white\",\"ticks\":\"\"}},\"title\":{\"x\":0.05},\"xaxis\":{\"automargin\":true,\"gridcolor\":\"white\",\"linecolor\":\"white\",\"ticks\":\"\",\"title\":{\"standoff\":15},\"zerolinecolor\":\"white\",\"zerolinewidth\":2},\"yaxis\":{\"automargin\":true,\"gridcolor\":\"white\",\"linecolor\":\"white\",\"ticks\":\"\",\"title\":{\"standoff\":15},\"zerolinecolor\":\"white\",\"zerolinewidth\":2}}},\"coloraxis\":{\"colorbar\":{\"title\":{\"text\":\"candidatos\"}},\"colorscale\":[[0.0,\"rgb(103,0,31)\"],[0.1,\"rgb(178,24,43)\"],[0.2,\"rgb(214,96,77)\"],[0.3,\"rgb(244,165,130)\"],[0.4,\"rgb(253,219,199)\"],[0.5,\"rgb(247,247,247)\"],[0.6,\"rgb(209,229,240)\"],[0.7,\"rgb(146,197,222)\"],[0.8,\"rgb(67,147,195)\"],[0.9,\"rgb(33,102,172)\"],[1.0,\"rgb(5,48,97)\"]]},\"legend\":{\"tracegroupgap\":0},\"margin\":{\"t\":50,\"l\":25,\"r\":25,\"b\":25}},                        {\"responsive\": true}                    ).then(function(){\n",
       "                            \n",
       "var gd = document.getElementById('f5692d18-05d7-435b-8668-360df9c80aab');\n",
       "var x = new MutationObserver(function (mutations, observer) {{\n",
       "        var display = window.getComputedStyle(gd).display;\n",
       "        if (!display || display === 'none') {{\n",
       "            console.log([gd, 'removed!']);\n",
       "            Plotly.purge(gd);\n",
       "            observer.disconnect();\n",
       "        }}\n",
       "}});\n",
       "\n",
       "// Listen for the removal of the full notebook cells\n",
       "var notebookContainer = gd.closest('#notebook-container');\n",
       "if (notebookContainer) {{\n",
       "    x.observe(notebookContainer, {childList: true});\n",
       "}}\n",
       "\n",
       "// Listen for the clearing of the current output cell\n",
       "var outputEl = gd.closest('.output');\n",
       "if (outputEl) {{\n",
       "    x.observe(outputEl, {childList: true});\n",
       "}}\n",
       "\n",
       "                        })                };                });            </script>        </div>"
      ]
     },
     "metadata": {},
     "output_type": "display_data"
    }
   ],
   "source": [
    "# distribuição dos candidatos por Estado\n",
    "\n",
    "import plotly.express as px\n",
    "\n",
    "fig = px.treemap(data_frame=df_ufs,\n",
    "                path = ['uf'],\n",
    "                values = 'candidatos', color='candidatos',\n",
    "                color_continuous_scale='RdBu')\n",
    "fig.update_traces(root_color='lightgrey')\n",
    "fig.update_layout(margin = dict(t=50, l=25, r=25, b=25))\n",
    "fig.show()\n"
   ]
  },
  {
   "cell_type": "markdown",
   "id": "1c464258",
   "metadata": {},
   "source": [
    "### ESCOLARIDADE PAIS OU RESPONSÁVEIS"
   ]
  },
  {
   "cell_type": "code",
   "execution_count": 79,
   "id": "3ac79a8d",
   "metadata": {},
   "outputs": [
    {
     "data": {
      "text/plain": [
       "A     336216\n",
       "B    1324198\n",
       "C     839009\n",
       "D     615284\n",
       "E    1444832\n",
       "F     382851\n",
       "G     239720\n",
       "H     505033\n",
       "Name: Q001, dtype: int64"
      ]
     },
     "execution_count": 79,
     "metadata": {},
     "output_type": "execute_result"
    }
   ],
   "source": [
    "# O Enem possui um questionário sócio-econômico:\n",
    "\n",
    "# Q001 - Até que série seu pai, ou homem responsável, estudou?\n",
    "'''\n",
    "A Nunca estudou.\n",
    "B Não completou a 4a série/5a série do Ensino Fundamental\n",
    "C Completou a 4a /5a série, mas não completou 8a/9o ano do Ensino Fundamental\n",
    "D Completou a  8a/9o ano do Ensino Fundamental, mas não completou Ensino Médio\n",
    "E Completou Ensino Médio, mas não completou Faculdade\n",
    "F Completou Faculdade, mas não completou a Pós-Graduação\n",
    "G Completou a Pós-Graduação\n",
    "H Não sei\n",
    "'''\n",
    "df_enem['Q001'].value_counts().sort_index()\n"
   ]
  },
  {
   "cell_type": "code",
   "execution_count": 44,
   "id": "c1512424",
   "metadata": {},
   "outputs": [
    {
     "data": {
      "text/plain": [
       "A     239085\n",
       "B    1044422\n",
       "C     788103\n",
       "D     697557\n",
       "E    1796085\n",
       "F     532008\n",
       "G     434437\n",
       "H     155446\n",
       "Name: Q002, dtype: int64"
      ]
     },
     "execution_count": 44,
     "metadata": {},
     "output_type": "execute_result"
    }
   ],
   "source": [
    "# Q002 - Até que série sua mãe, ou mulher responsável, estudou?\n",
    "'''\n",
    "A Nunca estudou.\n",
    "B Não completou a 4a série/5a série do Ensino Fundamental\n",
    "C Completou a 4a /5a série, mas não completou 8a/9o ano do Ensino Fundamental\n",
    "D Completou a  8a/9o ano do Ensino Fundamental, mas não completou Ensino Médio\n",
    "E Completou Ensino Médio, mas não completou Faculdade\n",
    "F Completou Faculdade, mas não completou a Pós-Graduação\n",
    "G Completou a Pós-Graduação\n",
    "H Não sei\n",
    "'''\n",
    "df_enem['Q002'].value_counts().sort_index()"
   ]
  },
  {
   "cell_type": "code",
   "execution_count": 80,
   "id": "f2129453",
   "metadata": {},
   "outputs": [
    {
     "data": {
      "text/html": [
       "<div>\n",
       "<style scoped>\n",
       "    .dataframe tbody tr th:only-of-type {\n",
       "        vertical-align: middle;\n",
       "    }\n",
       "\n",
       "    .dataframe tbody tr th {\n",
       "        vertical-align: top;\n",
       "    }\n",
       "\n",
       "    .dataframe thead th {\n",
       "        text-align: right;\n",
       "    }\n",
       "</style>\n",
       "<table border=\"1\" class=\"dataframe\">\n",
       "  <thead>\n",
       "    <tr style=\"text-align: right;\">\n",
       "      <th></th>\n",
       "      <th>TP_FAIXA_ETARIA</th>\n",
       "      <th>TP_SEXO</th>\n",
       "      <th>TP_ESTADO_CIVIL</th>\n",
       "      <th>TP_COR_RACA</th>\n",
       "      <th>TP_NACIONALIDADE</th>\n",
       "      <th>TP_ST_CONCLUSAO</th>\n",
       "      <th>TP_ANO_CONCLUIU</th>\n",
       "      <th>TP_ESCOLA</th>\n",
       "      <th>TP_ENSINO</th>\n",
       "      <th>IN_TREINEIRO</th>\n",
       "      <th>SG_UF_ESC</th>\n",
       "      <th>TP_DEPENDENCIA_ADM_ESC</th>\n",
       "      <th>TP_LOCALIZACAO_ESC</th>\n",
       "      <th>TP_SIT_FUNC_ESC</th>\n",
       "      <th>SG_UF_PROVA</th>\n",
       "      <th>TP_PRESENCA_CN</th>\n",
       "      <th>TP_PRESENCA_CH</th>\n",
       "      <th>TP_PRESENCA_LC</th>\n",
       "      <th>TP_PRESENCA_MT</th>\n",
       "      <th>NU_NOTA_CN</th>\n",
       "      <th>NU_NOTA_CH</th>\n",
       "      <th>NU_NOTA_LC</th>\n",
       "      <th>NU_NOTA_MT</th>\n",
       "      <th>TP_LINGUA</th>\n",
       "      <th>TP_STATUS_REDACAO</th>\n",
       "      <th>NU_NOTA_COMP1</th>\n",
       "      <th>NU_NOTA_COMP2</th>\n",
       "      <th>NU_NOTA_COMP3</th>\n",
       "      <th>NU_NOTA_COMP4</th>\n",
       "      <th>NU_NOTA_COMP5</th>\n",
       "      <th>NU_NOTA_REDACAO</th>\n",
       "      <th>Q001</th>\n",
       "      <th>Q002</th>\n",
       "      <th>Q003</th>\n",
       "      <th>Q004</th>\n",
       "      <th>Q005</th>\n",
       "      <th>Q006</th>\n",
       "      <th>Q007</th>\n",
       "      <th>Q008</th>\n",
       "      <th>Q009</th>\n",
       "      <th>Q010</th>\n",
       "      <th>Q011</th>\n",
       "      <th>Q012</th>\n",
       "      <th>Q013</th>\n",
       "      <th>Q014</th>\n",
       "      <th>Q015</th>\n",
       "      <th>Q016</th>\n",
       "      <th>Q017</th>\n",
       "      <th>Q018</th>\n",
       "      <th>Q019</th>\n",
       "      <th>Q020</th>\n",
       "      <th>Q021</th>\n",
       "      <th>Q022</th>\n",
       "      <th>Q023</th>\n",
       "      <th>Q024</th>\n",
       "      <th>Q025</th>\n",
       "      <th>pai_possui_superior</th>\n",
       "      <th>mae_possui_superior</th>\n",
       "    </tr>\n",
       "  </thead>\n",
       "  <tbody>\n",
       "    <tr>\n",
       "      <th>0</th>\n",
       "      <td>11</td>\n",
       "      <td>F</td>\n",
       "      <td>1</td>\n",
       "      <td>2</td>\n",
       "      <td>1</td>\n",
       "      <td>1</td>\n",
       "      <td>11</td>\n",
       "      <td>1</td>\n",
       "      <td>NaN</td>\n",
       "      <td>0</td>\n",
       "      <td>None</td>\n",
       "      <td>NaN</td>\n",
       "      <td>NaN</td>\n",
       "      <td>NaN</td>\n",
       "      <td>PA</td>\n",
       "      <td>0</td>\n",
       "      <td>0</td>\n",
       "      <td>0</td>\n",
       "      <td>0</td>\n",
       "      <td>NaN</td>\n",
       "      <td>NaN</td>\n",
       "      <td>NaN</td>\n",
       "      <td>NaN</td>\n",
       "      <td>1</td>\n",
       "      <td>NaN</td>\n",
       "      <td>NaN</td>\n",
       "      <td>NaN</td>\n",
       "      <td>NaN</td>\n",
       "      <td>NaN</td>\n",
       "      <td>NaN</td>\n",
       "      <td>NaN</td>\n",
       "      <td>None</td>\n",
       "      <td>None</td>\n",
       "      <td>None</td>\n",
       "      <td>None</td>\n",
       "      <td>NaN</td>\n",
       "      <td>None</td>\n",
       "      <td>None</td>\n",
       "      <td>None</td>\n",
       "      <td>None</td>\n",
       "      <td>None</td>\n",
       "      <td>None</td>\n",
       "      <td>None</td>\n",
       "      <td>None</td>\n",
       "      <td>None</td>\n",
       "      <td>None</td>\n",
       "      <td>None</td>\n",
       "      <td>None</td>\n",
       "      <td>None</td>\n",
       "      <td>None</td>\n",
       "      <td>None</td>\n",
       "      <td>None</td>\n",
       "      <td>None</td>\n",
       "      <td>None</td>\n",
       "      <td>None</td>\n",
       "      <td>None</td>\n",
       "      <td>False</td>\n",
       "      <td>False</td>\n",
       "    </tr>\n",
       "    <tr>\n",
       "      <th>1</th>\n",
       "      <td>11</td>\n",
       "      <td>M</td>\n",
       "      <td>2</td>\n",
       "      <td>3</td>\n",
       "      <td>1</td>\n",
       "      <td>1</td>\n",
       "      <td>11</td>\n",
       "      <td>1</td>\n",
       "      <td>NaN</td>\n",
       "      <td>0</td>\n",
       "      <td>None</td>\n",
       "      <td>NaN</td>\n",
       "      <td>NaN</td>\n",
       "      <td>NaN</td>\n",
       "      <td>RN</td>\n",
       "      <td>1</td>\n",
       "      <td>1</td>\n",
       "      <td>1</td>\n",
       "      <td>1</td>\n",
       "      <td>604.10</td>\n",
       "      <td>661.70</td>\n",
       "      <td>595.30</td>\n",
       "      <td>711.30</td>\n",
       "      <td>1</td>\n",
       "      <td>1.00</td>\n",
       "      <td>120.00</td>\n",
       "      <td>120.00</td>\n",
       "      <td>120.00</td>\n",
       "      <td>120.00</td>\n",
       "      <td>100.00</td>\n",
       "      <td>580.00</td>\n",
       "      <td>None</td>\n",
       "      <td>None</td>\n",
       "      <td>None</td>\n",
       "      <td>None</td>\n",
       "      <td>NaN</td>\n",
       "      <td>None</td>\n",
       "      <td>None</td>\n",
       "      <td>None</td>\n",
       "      <td>None</td>\n",
       "      <td>None</td>\n",
       "      <td>None</td>\n",
       "      <td>None</td>\n",
       "      <td>None</td>\n",
       "      <td>None</td>\n",
       "      <td>None</td>\n",
       "      <td>None</td>\n",
       "      <td>None</td>\n",
       "      <td>None</td>\n",
       "      <td>None</td>\n",
       "      <td>None</td>\n",
       "      <td>None</td>\n",
       "      <td>None</td>\n",
       "      <td>None</td>\n",
       "      <td>None</td>\n",
       "      <td>None</td>\n",
       "      <td>False</td>\n",
       "      <td>False</td>\n",
       "    </tr>\n",
       "    <tr>\n",
       "      <th>2</th>\n",
       "      <td>4</td>\n",
       "      <td>F</td>\n",
       "      <td>2</td>\n",
       "      <td>3</td>\n",
       "      <td>2</td>\n",
       "      <td>2</td>\n",
       "      <td>0</td>\n",
       "      <td>2</td>\n",
       "      <td>1.00</td>\n",
       "      <td>0</td>\n",
       "      <td>BA</td>\n",
       "      <td>2.00</td>\n",
       "      <td>1.00</td>\n",
       "      <td>1.00</td>\n",
       "      <td>BA</td>\n",
       "      <td>0</td>\n",
       "      <td>0</td>\n",
       "      <td>0</td>\n",
       "      <td>0</td>\n",
       "      <td>NaN</td>\n",
       "      <td>NaN</td>\n",
       "      <td>NaN</td>\n",
       "      <td>NaN</td>\n",
       "      <td>0</td>\n",
       "      <td>NaN</td>\n",
       "      <td>NaN</td>\n",
       "      <td>NaN</td>\n",
       "      <td>NaN</td>\n",
       "      <td>NaN</td>\n",
       "      <td>NaN</td>\n",
       "      <td>NaN</td>\n",
       "      <td>B</td>\n",
       "      <td>C</td>\n",
       "      <td>A</td>\n",
       "      <td>D</td>\n",
       "      <td>3.00</td>\n",
       "      <td>B</td>\n",
       "      <td>A</td>\n",
       "      <td>B</td>\n",
       "      <td>A</td>\n",
       "      <td>A</td>\n",
       "      <td>A</td>\n",
       "      <td>B</td>\n",
       "      <td>A</td>\n",
       "      <td>B</td>\n",
       "      <td>A</td>\n",
       "      <td>B</td>\n",
       "      <td>A</td>\n",
       "      <td>A</td>\n",
       "      <td>B</td>\n",
       "      <td>A</td>\n",
       "      <td>A</td>\n",
       "      <td>A</td>\n",
       "      <td>A</td>\n",
       "      <td>A</td>\n",
       "      <td>A</td>\n",
       "      <td>False</td>\n",
       "      <td>False</td>\n",
       "    </tr>\n",
       "    <tr>\n",
       "      <th>3</th>\n",
       "      <td>2</td>\n",
       "      <td>M</td>\n",
       "      <td>1</td>\n",
       "      <td>3</td>\n",
       "      <td>1</td>\n",
       "      <td>2</td>\n",
       "      <td>0</td>\n",
       "      <td>2</td>\n",
       "      <td>1.00</td>\n",
       "      <td>0</td>\n",
       "      <td>SP</td>\n",
       "      <td>3.00</td>\n",
       "      <td>1.00</td>\n",
       "      <td>1.00</td>\n",
       "      <td>SP</td>\n",
       "      <td>1</td>\n",
       "      <td>1</td>\n",
       "      <td>1</td>\n",
       "      <td>1</td>\n",
       "      <td>620.80</td>\n",
       "      <td>675.00</td>\n",
       "      <td>624.20</td>\n",
       "      <td>759.40</td>\n",
       "      <td>0</td>\n",
       "      <td>1.00</td>\n",
       "      <td>140.00</td>\n",
       "      <td>200.00</td>\n",
       "      <td>140.00</td>\n",
       "      <td>120.00</td>\n",
       "      <td>160.00</td>\n",
       "      <td>760.00</td>\n",
       "      <td>None</td>\n",
       "      <td>None</td>\n",
       "      <td>None</td>\n",
       "      <td>None</td>\n",
       "      <td>NaN</td>\n",
       "      <td>None</td>\n",
       "      <td>None</td>\n",
       "      <td>None</td>\n",
       "      <td>None</td>\n",
       "      <td>None</td>\n",
       "      <td>None</td>\n",
       "      <td>None</td>\n",
       "      <td>None</td>\n",
       "      <td>None</td>\n",
       "      <td>None</td>\n",
       "      <td>None</td>\n",
       "      <td>None</td>\n",
       "      <td>None</td>\n",
       "      <td>None</td>\n",
       "      <td>None</td>\n",
       "      <td>None</td>\n",
       "      <td>None</td>\n",
       "      <td>None</td>\n",
       "      <td>None</td>\n",
       "      <td>None</td>\n",
       "      <td>False</td>\n",
       "      <td>False</td>\n",
       "    </tr>\n",
       "    <tr>\n",
       "      <th>4</th>\n",
       "      <td>4</td>\n",
       "      <td>F</td>\n",
       "      <td>1</td>\n",
       "      <td>3</td>\n",
       "      <td>2</td>\n",
       "      <td>1</td>\n",
       "      <td>1</td>\n",
       "      <td>1</td>\n",
       "      <td>NaN</td>\n",
       "      <td>0</td>\n",
       "      <td>None</td>\n",
       "      <td>NaN</td>\n",
       "      <td>NaN</td>\n",
       "      <td>NaN</td>\n",
       "      <td>MG</td>\n",
       "      <td>0</td>\n",
       "      <td>0</td>\n",
       "      <td>0</td>\n",
       "      <td>0</td>\n",
       "      <td>NaN</td>\n",
       "      <td>NaN</td>\n",
       "      <td>NaN</td>\n",
       "      <td>NaN</td>\n",
       "      <td>1</td>\n",
       "      <td>NaN</td>\n",
       "      <td>NaN</td>\n",
       "      <td>NaN</td>\n",
       "      <td>NaN</td>\n",
       "      <td>NaN</td>\n",
       "      <td>NaN</td>\n",
       "      <td>NaN</td>\n",
       "      <td>B</td>\n",
       "      <td>G</td>\n",
       "      <td>B</td>\n",
       "      <td>B</td>\n",
       "      <td>3.00</td>\n",
       "      <td>B</td>\n",
       "      <td>A</td>\n",
       "      <td>B</td>\n",
       "      <td>D</td>\n",
       "      <td>A</td>\n",
       "      <td>A</td>\n",
       "      <td>B</td>\n",
       "      <td>A</td>\n",
       "      <td>B</td>\n",
       "      <td>A</td>\n",
       "      <td>A</td>\n",
       "      <td>A</td>\n",
       "      <td>A</td>\n",
       "      <td>B</td>\n",
       "      <td>A</td>\n",
       "      <td>B</td>\n",
       "      <td>B</td>\n",
       "      <td>A</td>\n",
       "      <td>A</td>\n",
       "      <td>B</td>\n",
       "      <td>False</td>\n",
       "      <td>True</td>\n",
       "    </tr>\n",
       "  </tbody>\n",
       "</table>\n",
       "</div>"
      ],
      "text/plain": [
       "   TP_FAIXA_ETARIA TP_SEXO  TP_ESTADO_CIVIL  TP_COR_RACA  TP_NACIONALIDADE  \\\n",
       "0               11       F                1            2                 1   \n",
       "1               11       M                2            3                 1   \n",
       "2                4       F                2            3                 2   \n",
       "3                2       M                1            3                 1   \n",
       "4                4       F                1            3                 2   \n",
       "\n",
       "   TP_ST_CONCLUSAO  TP_ANO_CONCLUIU  TP_ESCOLA  TP_ENSINO  IN_TREINEIRO  \\\n",
       "0                1               11          1        NaN             0   \n",
       "1                1               11          1        NaN             0   \n",
       "2                2                0          2       1.00             0   \n",
       "3                2                0          2       1.00             0   \n",
       "4                1                1          1        NaN             0   \n",
       "\n",
       "  SG_UF_ESC  TP_DEPENDENCIA_ADM_ESC  TP_LOCALIZACAO_ESC  TP_SIT_FUNC_ESC  \\\n",
       "0      None                     NaN                 NaN              NaN   \n",
       "1      None                     NaN                 NaN              NaN   \n",
       "2        BA                    2.00                1.00             1.00   \n",
       "3        SP                    3.00                1.00             1.00   \n",
       "4      None                     NaN                 NaN              NaN   \n",
       "\n",
       "  SG_UF_PROVA  TP_PRESENCA_CN  TP_PRESENCA_CH  TP_PRESENCA_LC  TP_PRESENCA_MT  \\\n",
       "0          PA               0               0               0               0   \n",
       "1          RN               1               1               1               1   \n",
       "2          BA               0               0               0               0   \n",
       "3          SP               1               1               1               1   \n",
       "4          MG               0               0               0               0   \n",
       "\n",
       "   NU_NOTA_CN  NU_NOTA_CH  NU_NOTA_LC  NU_NOTA_MT  TP_LINGUA  \\\n",
       "0         NaN         NaN         NaN         NaN          1   \n",
       "1      604.10      661.70      595.30      711.30          1   \n",
       "2         NaN         NaN         NaN         NaN          0   \n",
       "3      620.80      675.00      624.20      759.40          0   \n",
       "4         NaN         NaN         NaN         NaN          1   \n",
       "\n",
       "   TP_STATUS_REDACAO  NU_NOTA_COMP1  NU_NOTA_COMP2  NU_NOTA_COMP3  \\\n",
       "0                NaN            NaN            NaN            NaN   \n",
       "1               1.00         120.00         120.00         120.00   \n",
       "2                NaN            NaN            NaN            NaN   \n",
       "3               1.00         140.00         200.00         140.00   \n",
       "4                NaN            NaN            NaN            NaN   \n",
       "\n",
       "   NU_NOTA_COMP4  NU_NOTA_COMP5  NU_NOTA_REDACAO  Q001  Q002  Q003  Q004  \\\n",
       "0            NaN            NaN              NaN  None  None  None  None   \n",
       "1         120.00         100.00           580.00  None  None  None  None   \n",
       "2            NaN            NaN              NaN     B     C     A     D   \n",
       "3         120.00         160.00           760.00  None  None  None  None   \n",
       "4            NaN            NaN              NaN     B     G     B     B   \n",
       "\n",
       "   Q005  Q006  Q007  Q008  Q009  Q010  Q011  Q012  Q013  Q014  Q015  Q016  \\\n",
       "0   NaN  None  None  None  None  None  None  None  None  None  None  None   \n",
       "1   NaN  None  None  None  None  None  None  None  None  None  None  None   \n",
       "2  3.00     B     A     B     A     A     A     B     A     B     A     B   \n",
       "3   NaN  None  None  None  None  None  None  None  None  None  None  None   \n",
       "4  3.00     B     A     B     D     A     A     B     A     B     A     A   \n",
       "\n",
       "   Q017  Q018  Q019  Q020  Q021  Q022  Q023  Q024  Q025  pai_possui_superior  \\\n",
       "0  None  None  None  None  None  None  None  None  None                False   \n",
       "1  None  None  None  None  None  None  None  None  None                False   \n",
       "2     A     A     B     A     A     A     A     A     A                False   \n",
       "3  None  None  None  None  None  None  None  None  None                False   \n",
       "4     A     A     B     A     B     B     A     A     B                False   \n",
       "\n",
       "   mae_possui_superior  \n",
       "0                False  \n",
       "1                False  \n",
       "2                False  \n",
       "3                False  \n",
       "4                 True  "
      ]
     },
     "execution_count": 80,
     "metadata": {},
     "output_type": "execute_result"
    }
   ],
   "source": [
    "# criando novas variáveis para delimitar pais que possuem nível superiror\n",
    "df_enem['pai_possui_superior'] = df_enem['Q001'].isin(['F','G'])\n",
    "df_enem['mae_possui_superior'] = df_enem['Q002'].isin(['F','G'])\n",
    "df_enem.head()"
   ]
  },
  {
   "cell_type": "code",
   "execution_count": 81,
   "id": "aec54255",
   "metadata": {},
   "outputs": [
    {
     "data": {
      "text/plain": [
       "False   89.23\n",
       "True    10.77\n",
       "Name: pai_possui_superior, dtype: float64"
      ]
     },
     "execution_count": 81,
     "metadata": {},
     "output_type": "execute_result"
    }
   ],
   "source": [
    "df_enem['pai_possui_superior'].value_counts(normalize=True) * 100"
   ]
  },
  {
   "cell_type": "code",
   "execution_count": 87,
   "id": "01068740",
   "metadata": {},
   "outputs": [
    {
     "data": {
      "text/plain": [
       "<AxesSubplot:xlabel='pai_possui_superior', ylabel='count'>"
      ]
     },
     "execution_count": 87,
     "metadata": {},
     "output_type": "execute_result"
    },
    {
     "data": {
      "image/png": "[encoded data removed]",
      "text/plain": [
       "<Figure size 504x360 with 1 Axes>"
      ]
     },
     "metadata": {},
     "output_type": "display_data"
    }
   ],
   "source": [
    "# Q001 - Até que série seu pai, ou homem responsável, estudou?\n",
    "sns.countplot(data=df_enem, x='pai_possui_superior', palette='Blues')"
   ]
  },
  {
   "cell_type": "code",
   "execution_count": 54,
   "id": "7bee0e0c",
   "metadata": {},
   "outputs": [
    {
     "data": {
      "text/plain": [
       "False   83.29\n",
       "True    16.71\n",
       "Name: mae_possui_superior, dtype: float64"
      ]
     },
     "execution_count": 54,
     "metadata": {},
     "output_type": "execute_result"
    }
   ],
   "source": [
    "df_enem['mae_possui_superior'].value_counts(normalize=True) * 100"
   ]
  },
  {
   "cell_type": "code",
   "execution_count": 86,
   "id": "319c8a48",
   "metadata": {},
   "outputs": [
    {
     "data": {
      "text/plain": [
       "<AxesSubplot:xlabel='mae_possui_superior', ylabel='count'>"
      ]
     },
     "execution_count": 86,
     "metadata": {},
     "output_type": "execute_result"
    },
    {
     "data": {
      "image/png": "[encoded data removed]",
      "text/plain": [
       "<Figure size 504x360 with 1 Axes>"
      ]
     },
     "metadata": {},
     "output_type": "display_data"
    }
   ],
   "source": [
    "# Até que série sua mãe, ou a mulher responsável por você, estudou?\n",
    "sns.countplot(data=df_enem, x='mae_possui_superior', palette='Reds')"
   ]
  },
  {
   "cell_type": "markdown",
   "id": "d0804572",
   "metadata": {},
   "source": [
    "### RENDA FAMILIAR"
   ]
  },
  {
   "cell_type": "code",
   "execution_count": 88,
   "id": "cc4b8b04",
   "metadata": {},
   "outputs": [
    {
     "data": {
      "text/plain": [
       "{'A': 0,\n",
       " 'B': 1,\n",
       " 'C': 2,\n",
       " 'D': 3,\n",
       " 'E': 4,\n",
       " 'F': 5,\n",
       " 'G': 6,\n",
       " 'H': 7,\n",
       " 'I': 8,\n",
       " 'J': 9,\n",
       " 'K': 10,\n",
       " 'L': 11,\n",
       " 'M': 12,\n",
       " 'N': 13,\n",
       " 'O': 14,\n",
       " 'P': 15,\n",
       " 'Q': 16}"
      ]
     },
     "execution_count": 88,
     "metadata": {},
     "output_type": "execute_result"
    }
   ],
   "source": [
    "# Renda Familiar\n",
    "# Transformar Q006 em algo numérico\n",
    "\n",
    "'''\n",
    "A\tNenhuma Renda\n",
    "B\tAté R$ 1.045,00\n",
    "C\tDe R$ 1.045,01 até R$ 1.567,50\n",
    "D\tDe R$ 1.567,51 até R$ 2.090,00\n",
    "E\tDe R$ 2.090,01 até R$ 2.612,50\n",
    "F\tDe R$ 2.612,51 até R$ 3.135,00\n",
    "G\tDe R$ 3.135,01 até R$ 4.180,00\n",
    "H\tDe R$ 4.180,01 até R$ 5.225,00\n",
    "I\tDe R$ 5.225,01 até R$ 6.270,00\n",
    "J\tDe R$ 6.270,01 até R$ 7.315,00\n",
    "K\tDe R$ 7.315,01 até R$ 8.360,00\n",
    "L\tDe R$ 8.360,01 até R$ 9.405,00\n",
    "M\tDe R$ 9.405,01 até R$ 10.450,00\n",
    "N\tDe R$ 10.450,01 até R$ 12.540,00\n",
    "O\tDe R$ 12.540,01 até R$ 15.675,00\n",
    "P\tDe R$ 15.675,01 até R$ 20.900,00\n",
    "Q\tAcima de R$ 20.900,00\n",
    "\n",
    "'''\n",
    "\n",
    "\n",
    "from string import ascii_uppercase\n",
    "\n",
    "dicionario_renda = dict()\n",
    "\n",
    "for i, letra in enumerate(ascii_uppercase):\n",
    "    if i == 17:  # até a letra Q (17)\n",
    "        break\n",
    "    dicionario_renda[letra] = i\n",
    "    \n",
    "dicionario_renda"
   ]
  },
  {
   "cell_type": "code",
   "execution_count": 90,
   "id": "66f57e1d",
   "metadata": {},
   "outputs": [
    {
     "data": {
      "text/plain": [
       "A     459211\n",
       "B    1884219\n",
       "C    1039889\n",
       "D     723147\n",
       "E     339346\n",
       "F     355481\n",
       "G     252580\n",
       "H     171316\n",
       "I      98901\n",
       "J      58292\n",
       "K      45556\n",
       "L      34385\n",
       "M      47107\n",
       "N      45106\n",
       "O      41067\n",
       "P      40445\n",
       "Q      51095\n",
       "Name: Q006, dtype: int64"
      ]
     },
     "execution_count": 90,
     "metadata": {},
     "output_type": "execute_result"
    }
   ],
   "source": [
    "df_enem['Q006'].value_counts().sort_index()"
   ]
  },
  {
   "cell_type": "code",
   "execution_count": 101,
   "id": "ab1d2d40",
   "metadata": {},
   "outputs": [
    {
     "data": {
      "text/plain": [
       "0.00      459211\n",
       "1.00     1884219\n",
       "2.00     1039889\n",
       "3.00      723147\n",
       "4.00      339346\n",
       "5.00      355481\n",
       "6.00      252580\n",
       "7.00      171316\n",
       "8.00       98901\n",
       "9.00       58292\n",
       "10.00      45556\n",
       "11.00      34385\n",
       "12.00      47107\n",
       "13.00      45106\n",
       "14.00      41067\n",
       "15.00      40445\n",
       "16.00      51095\n",
       "Name: renda_familiar, dtype: int64"
      ]
     },
     "execution_count": 101,
     "metadata": {},
     "output_type": "execute_result"
    }
   ],
   "source": [
    "# mapeamento\n",
    "df_enem['renda_familiar'] = df_enem['Q006'].map(dicionario_renda)\n",
    "df_enem['renda_familiar'].value_counts().sort_index()"
   ]
  },
  {
   "cell_type": "code",
   "execution_count": 113,
   "id": "b656fec8",
   "metadata": {},
   "outputs": [
    {
     "data": {
      "text/plain": [
       "<AxesSubplot:xlabel='renda_familiar', ylabel='count'>"
      ]
     },
     "execution_count": 113,
     "metadata": {},
     "output_type": "execute_result"
    },
    {
     "data": {
      "image/png": "[encoded data removed]",
      "text/plain": [
       "<Figure size 720x360 with 1 Axes>"
      ]
     },
     "metadata": {},
     "output_type": "display_data"
    }
   ],
   "source": [
    "# análise de renda\n",
    "sns.set(rc={'figure.figsize':(10,5)})\n",
    "sns.countplot(data=df_enem, x='renda_familiar', palette='autumn')"
   ]
  },
  {
   "cell_type": "markdown",
   "id": "f0b26f49",
   "metadata": {},
   "source": [
    "## <font color=\"#4F7942\">Relacionando as *NOTAS* com características dos candidatos</font>\n",
    "-------\n",
    "\n",
    "Avaliar se as notas dos candidatos são diferentes em relacção a:\n",
    "- sexo\n",
    "- estado civil\n",
    "- raça\n",
    "- unidade federativa\n",
    "- escolaridade pais\n",
    "- renda familiar"
   ]
  },
  {
   "cell_type": "markdown",
   "id": "c0ab3fee",
   "metadata": {},
   "source": [
    "### NOTAS x SEXO"
   ]
  },
  {
   "cell_type": "code",
   "execution_count": 114,
   "id": "8990d135",
   "metadata": {},
   "outputs": [
    {
     "data": {
      "text/html": [
       "<div>\n",
       "<style scoped>\n",
       "    .dataframe tbody tr th:only-of-type {\n",
       "        vertical-align: middle;\n",
       "    }\n",
       "\n",
       "    .dataframe tbody tr th {\n",
       "        vertical-align: top;\n",
       "    }\n",
       "\n",
       "    .dataframe thead th {\n",
       "        text-align: right;\n",
       "    }\n",
       "</style>\n",
       "<table border=\"1\" class=\"dataframe\">\n",
       "  <thead>\n",
       "    <tr style=\"text-align: right;\">\n",
       "      <th></th>\n",
       "      <th>NU_NOTA_CN</th>\n",
       "      <th>NU_NOTA_CH</th>\n",
       "      <th>NU_NOTA_LC</th>\n",
       "      <th>NU_NOTA_MT</th>\n",
       "      <th>NU_NOTA_REDACAO</th>\n",
       "      <th>TP_SEXO</th>\n",
       "    </tr>\n",
       "  </thead>\n",
       "  <tbody>\n",
       "    <tr>\n",
       "      <th>0</th>\n",
       "      <td>NaN</td>\n",
       "      <td>NaN</td>\n",
       "      <td>NaN</td>\n",
       "      <td>NaN</td>\n",
       "      <td>NaN</td>\n",
       "      <td>F</td>\n",
       "    </tr>\n",
       "    <tr>\n",
       "      <th>1</th>\n",
       "      <td>604.10</td>\n",
       "      <td>661.70</td>\n",
       "      <td>595.30</td>\n",
       "      <td>711.30</td>\n",
       "      <td>580.00</td>\n",
       "      <td>M</td>\n",
       "    </tr>\n",
       "    <tr>\n",
       "      <th>2</th>\n",
       "      <td>NaN</td>\n",
       "      <td>NaN</td>\n",
       "      <td>NaN</td>\n",
       "      <td>NaN</td>\n",
       "      <td>NaN</td>\n",
       "      <td>F</td>\n",
       "    </tr>\n",
       "    <tr>\n",
       "      <th>3</th>\n",
       "      <td>620.80</td>\n",
       "      <td>675.00</td>\n",
       "      <td>624.20</td>\n",
       "      <td>759.40</td>\n",
       "      <td>760.00</td>\n",
       "      <td>M</td>\n",
       "    </tr>\n",
       "    <tr>\n",
       "      <th>4</th>\n",
       "      <td>NaN</td>\n",
       "      <td>NaN</td>\n",
       "      <td>NaN</td>\n",
       "      <td>NaN</td>\n",
       "      <td>NaN</td>\n",
       "      <td>F</td>\n",
       "    </tr>\n",
       "  </tbody>\n",
       "</table>\n",
       "</div>"
      ],
      "text/plain": [
       "   NU_NOTA_CN  NU_NOTA_CH  NU_NOTA_LC  NU_NOTA_MT  NU_NOTA_REDACAO TP_SEXO\n",
       "0         NaN         NaN         NaN         NaN              NaN       F\n",
       "1      604.10      661.70      595.30      711.30           580.00       M\n",
       "2         NaN         NaN         NaN         NaN              NaN       F\n",
       "3      620.80      675.00      624.20      759.40           760.00       M\n",
       "4         NaN         NaN         NaN         NaN              NaN       F"
      ]
     },
     "execution_count": 114,
     "metadata": {},
     "output_type": "execute_result"
    }
   ],
   "source": [
    "df_sexo = df_enem.loc[:, colunas_notas + ['TP_SEXO']]\n",
    "df_sexo.head()"
   ]
  },
  {
   "cell_type": "code",
   "execution_count": 120,
   "id": "4def9cc3",
   "metadata": {},
   "outputs": [
    {
     "data": {
      "image/png": "[encoded data removed]",
      "text/plain": [
       "<Figure size 648x432 with 4 Axes>"
      ]
     },
     "metadata": {},
     "output_type": "display_data"
    }
   ],
   "source": [
    "sns.set_style(\"darkgrid\")\n",
    "figura, graficos = plt.subplots(1, 4, sharey=True, figsize=(9,6))\n",
    "plt.tight_layout()\n",
    "\n",
    "for i in range(4):\n",
    "    coluna_1 = colunas_notas[i]\n",
    "    sns.boxplot(data=df_sexo, y=coluna_1, x='TP_SEXO', ax=graficos[i], palette='Paired_r')"
   ]
  },
  {
   "cell_type": "markdown",
   "id": "f28f18c6",
   "metadata": {},
   "source": [
    "### NOTAS x ESTADO CIVIL"
   ]
  },
  {
   "cell_type": "code",
   "execution_count": 126,
   "id": "7606bceb",
   "metadata": {},
   "outputs": [
    {
     "data": {
      "text/html": [
       "<div>\n",
       "<style scoped>\n",
       "    .dataframe tbody tr th:only-of-type {\n",
       "        vertical-align: middle;\n",
       "    }\n",
       "\n",
       "    .dataframe tbody tr th {\n",
       "        vertical-align: top;\n",
       "    }\n",
       "\n",
       "    .dataframe thead th {\n",
       "        text-align: right;\n",
       "    }\n",
       "</style>\n",
       "<table border=\"1\" class=\"dataframe\">\n",
       "  <thead>\n",
       "    <tr style=\"text-align: right;\">\n",
       "      <th></th>\n",
       "      <th>NU_NOTA_CN</th>\n",
       "      <th>NU_NOTA_CH</th>\n",
       "      <th>NU_NOTA_LC</th>\n",
       "      <th>NU_NOTA_MT</th>\n",
       "      <th>NU_NOTA_REDACAO</th>\n",
       "      <th>TP_ESTADO_CIVIL</th>\n",
       "    </tr>\n",
       "  </thead>\n",
       "  <tbody>\n",
       "    <tr>\n",
       "      <th>0</th>\n",
       "      <td>NaN</td>\n",
       "      <td>NaN</td>\n",
       "      <td>NaN</td>\n",
       "      <td>NaN</td>\n",
       "      <td>NaN</td>\n",
       "      <td>1</td>\n",
       "    </tr>\n",
       "    <tr>\n",
       "      <th>1</th>\n",
       "      <td>604.10</td>\n",
       "      <td>661.70</td>\n",
       "      <td>595.30</td>\n",
       "      <td>711.30</td>\n",
       "      <td>580.00</td>\n",
       "      <td>2</td>\n",
       "    </tr>\n",
       "    <tr>\n",
       "      <th>2</th>\n",
       "      <td>NaN</td>\n",
       "      <td>NaN</td>\n",
       "      <td>NaN</td>\n",
       "      <td>NaN</td>\n",
       "      <td>NaN</td>\n",
       "      <td>2</td>\n",
       "    </tr>\n",
       "    <tr>\n",
       "      <th>3</th>\n",
       "      <td>620.80</td>\n",
       "      <td>675.00</td>\n",
       "      <td>624.20</td>\n",
       "      <td>759.40</td>\n",
       "      <td>760.00</td>\n",
       "      <td>1</td>\n",
       "    </tr>\n",
       "    <tr>\n",
       "      <th>4</th>\n",
       "      <td>NaN</td>\n",
       "      <td>NaN</td>\n",
       "      <td>NaN</td>\n",
       "      <td>NaN</td>\n",
       "      <td>NaN</td>\n",
       "      <td>1</td>\n",
       "    </tr>\n",
       "  </tbody>\n",
       "</table>\n",
       "</div>"
      ],
      "text/plain": [
       "   NU_NOTA_CN  NU_NOTA_CH  NU_NOTA_LC  NU_NOTA_MT  NU_NOTA_REDACAO  \\\n",
       "0         NaN         NaN         NaN         NaN              NaN   \n",
       "1      604.10      661.70      595.30      711.30           580.00   \n",
       "2         NaN         NaN         NaN         NaN              NaN   \n",
       "3      620.80      675.00      624.20      759.40           760.00   \n",
       "4         NaN         NaN         NaN         NaN              NaN   \n",
       "\n",
       "   TP_ESTADO_CIVIL  \n",
       "0                1  \n",
       "1                2  \n",
       "2                2  \n",
       "3                1  \n",
       "4                1  "
      ]
     },
     "execution_count": 126,
     "metadata": {},
     "output_type": "execute_result"
    }
   ],
   "source": [
    "df_estcivil = df_enem.loc[:, colunas_notas + ['TP_ESTADO_CIVIL']]\n",
    "df_estcivil.head()"
   ]
  },
  {
   "cell_type": "code",
   "execution_count": 127,
   "id": "1f513196",
   "metadata": {},
   "outputs": [
    {
     "data": {
      "image/png": "[encoded data removed]",
      "text/plain": [
       "<Figure size 936x504 with 4 Axes>"
      ]
     },
     "metadata": {},
     "output_type": "display_data"
    }
   ],
   "source": [
    "'''\n",
    "0 Não informado\n",
    "1 Solteiro(a)\n",
    "2 Casado(a)/Mora com companheiro(a)\n",
    "3 Divorciado(a)/Desquitado(a)/Separado(a)\n",
    "4 Viúvo(a)\n",
    "'''\n",
    "\n",
    "sns.set_style(\"darkgrid\")\n",
    "figura, graficos = plt.subplots(2, 2, sharey=True, figsize=(13,7))\n",
    "plt.tight_layout()\n",
    "\n",
    "for i in range(2):\n",
    "    coluna_1 = colunas_notas[i*2] # 0 e 2\n",
    "    coluna_2 = colunas_notas[i*2+1] # 1 e 3\n",
    "    sns.boxplot(data=df_estcivil, y=coluna_1, x='TP_ESTADO_CIVIL', ax=graficos[i][0])\n",
    "    sns.boxplot(data=df_estcivil, y=coluna_2, x='TP_ESTADO_CIVIL', ax=graficos[i][1])"
   ]
  },
  {
   "cell_type": "markdown",
   "id": "4418b919",
   "metadata": {},
   "source": [
    "### NOTAS x RAÇA"
   ]
  },
  {
   "cell_type": "code",
   "execution_count": 121,
   "id": "741b8cdf",
   "metadata": {},
   "outputs": [
    {
     "data": {
      "text/html": [
       "<div>\n",
       "<style scoped>\n",
       "    .dataframe tbody tr th:only-of-type {\n",
       "        vertical-align: middle;\n",
       "    }\n",
       "\n",
       "    .dataframe tbody tr th {\n",
       "        vertical-align: top;\n",
       "    }\n",
       "\n",
       "    .dataframe thead th {\n",
       "        text-align: right;\n",
       "    }\n",
       "</style>\n",
       "<table border=\"1\" class=\"dataframe\">\n",
       "  <thead>\n",
       "    <tr style=\"text-align: right;\">\n",
       "      <th></th>\n",
       "      <th>NU_NOTA_CN</th>\n",
       "      <th>NU_NOTA_CH</th>\n",
       "      <th>NU_NOTA_LC</th>\n",
       "      <th>NU_NOTA_MT</th>\n",
       "      <th>NU_NOTA_REDACAO</th>\n",
       "      <th>TP_COR_RACA</th>\n",
       "    </tr>\n",
       "  </thead>\n",
       "  <tbody>\n",
       "    <tr>\n",
       "      <th>0</th>\n",
       "      <td>NaN</td>\n",
       "      <td>NaN</td>\n",
       "      <td>NaN</td>\n",
       "      <td>NaN</td>\n",
       "      <td>NaN</td>\n",
       "      <td>2</td>\n",
       "    </tr>\n",
       "    <tr>\n",
       "      <th>1</th>\n",
       "      <td>604.10</td>\n",
       "      <td>661.70</td>\n",
       "      <td>595.30</td>\n",
       "      <td>711.30</td>\n",
       "      <td>580.00</td>\n",
       "      <td>3</td>\n",
       "    </tr>\n",
       "    <tr>\n",
       "      <th>2</th>\n",
       "      <td>NaN</td>\n",
       "      <td>NaN</td>\n",
       "      <td>NaN</td>\n",
       "      <td>NaN</td>\n",
       "      <td>NaN</td>\n",
       "      <td>3</td>\n",
       "    </tr>\n",
       "    <tr>\n",
       "      <th>3</th>\n",
       "      <td>620.80</td>\n",
       "      <td>675.00</td>\n",
       "      <td>624.20</td>\n",
       "      <td>759.40</td>\n",
       "      <td>760.00</td>\n",
       "      <td>3</td>\n",
       "    </tr>\n",
       "    <tr>\n",
       "      <th>4</th>\n",
       "      <td>NaN</td>\n",
       "      <td>NaN</td>\n",
       "      <td>NaN</td>\n",
       "      <td>NaN</td>\n",
       "      <td>NaN</td>\n",
       "      <td>3</td>\n",
       "    </tr>\n",
       "  </tbody>\n",
       "</table>\n",
       "</div>"
      ],
      "text/plain": [
       "   NU_NOTA_CN  NU_NOTA_CH  NU_NOTA_LC  NU_NOTA_MT  NU_NOTA_REDACAO  \\\n",
       "0         NaN         NaN         NaN         NaN              NaN   \n",
       "1      604.10      661.70      595.30      711.30           580.00   \n",
       "2         NaN         NaN         NaN         NaN              NaN   \n",
       "3      620.80      675.00      624.20      759.40           760.00   \n",
       "4         NaN         NaN         NaN         NaN              NaN   \n",
       "\n",
       "   TP_COR_RACA  \n",
       "0            2  \n",
       "1            3  \n",
       "2            3  \n",
       "3            3  \n",
       "4            3  "
      ]
     },
     "execution_count": 121,
     "metadata": {},
     "output_type": "execute_result"
    }
   ],
   "source": [
    "df_raca = df_enem.loc[:, colunas_notas + ['TP_COR_RACA']]\n",
    "df_raca.head()"
   ]
  },
  {
   "cell_type": "code",
   "execution_count": 122,
   "id": "13893cac",
   "metadata": {},
   "outputs": [
    {
     "data": {
      "image/png": "[encoded data removed]",
      "text/plain": [
       "<Figure size 936x504 with 4 Axes>"
      ]
     },
     "metadata": {},
     "output_type": "display_data"
    }
   ],
   "source": [
    "'''\n",
    "0\tNão declarado  \n",
    "1\tBranca  \n",
    "2\tPreta  \n",
    "3\tParda  \n",
    "4\tAmarela  \n",
    "5\tIndígena \n",
    "'''\n",
    "\n",
    "sns.set_style(\"darkgrid\")\n",
    "figura, graficos = plt.subplots(2, 2, sharey=True, figsize=(13,7))\n",
    "plt.tight_layout()\n",
    "\n",
    "for i in range(2):\n",
    "    coluna_1 = colunas_notas[i*2] # 0 e 2\n",
    "    coluna_2 = colunas_notas[i*2+1] # 1 e 3\n",
    "    sns.boxplot(data=df_raca, y=coluna_1, x='TP_COR_RACA', ax=graficos[i][0])\n",
    "    sns.boxplot(data=df_raca, y=coluna_2, x='TP_COR_RACA', ax=graficos[i][1])"
   ]
  },
  {
   "cell_type": "markdown",
   "id": "376b9d99",
   "metadata": {},
   "source": [
    "### NOTAS X UNIDADE FEDERATIVA\n",
    "Foram selecionadas as UF com maior número de candidatos: SP, CE, MG e RJ\n"
   ]
  },
  {
   "cell_type": "code",
   "execution_count": 19,
   "id": "c87f7902",
   "metadata": {},
   "outputs": [
    {
     "data": {
      "text/html": [
       "<div>\n",
       "<style scoped>\n",
       "    .dataframe tbody tr th:only-of-type {\n",
       "        vertical-align: middle;\n",
       "    }\n",
       "\n",
       "    .dataframe tbody tr th {\n",
       "        vertical-align: top;\n",
       "    }\n",
       "\n",
       "    .dataframe thead th {\n",
       "        text-align: right;\n",
       "    }\n",
       "</style>\n",
       "<table border=\"1\" class=\"dataframe\">\n",
       "  <thead>\n",
       "    <tr style=\"text-align: right;\">\n",
       "      <th></th>\n",
       "      <th>NU_NOTA_CN</th>\n",
       "      <th>NU_NOTA_CH</th>\n",
       "      <th>NU_NOTA_LC</th>\n",
       "      <th>NU_NOTA_MT</th>\n",
       "      <th>NU_NOTA_REDACAO</th>\n",
       "      <th>SG_UF_ESC</th>\n",
       "    </tr>\n",
       "  </thead>\n",
       "  <tbody>\n",
       "    <tr>\n",
       "      <th>3</th>\n",
       "      <td>620.80</td>\n",
       "      <td>675.00</td>\n",
       "      <td>624.20</td>\n",
       "      <td>759.40</td>\n",
       "      <td>760.00</td>\n",
       "      <td>SP</td>\n",
       "    </tr>\n",
       "    <tr>\n",
       "      <th>89</th>\n",
       "      <td>578.40</td>\n",
       "      <td>681.10</td>\n",
       "      <td>638.20</td>\n",
       "      <td>669.80</td>\n",
       "      <td>820.00</td>\n",
       "      <td>SP</td>\n",
       "    </tr>\n",
       "    <tr>\n",
       "      <th>93</th>\n",
       "      <td>606.30</td>\n",
       "      <td>659.80</td>\n",
       "      <td>607.10</td>\n",
       "      <td>743.00</td>\n",
       "      <td>920.00</td>\n",
       "      <td>RJ</td>\n",
       "    </tr>\n",
       "    <tr>\n",
       "      <th>113</th>\n",
       "      <td>NaN</td>\n",
       "      <td>NaN</td>\n",
       "      <td>NaN</td>\n",
       "      <td>NaN</td>\n",
       "      <td>NaN</td>\n",
       "      <td>CE</td>\n",
       "    </tr>\n",
       "    <tr>\n",
       "      <th>119</th>\n",
       "      <td>519.80</td>\n",
       "      <td>550.60</td>\n",
       "      <td>579.50</td>\n",
       "      <td>648.60</td>\n",
       "      <td>640.00</td>\n",
       "      <td>MG</td>\n",
       "    </tr>\n",
       "  </tbody>\n",
       "</table>\n",
       "</div>"
      ],
      "text/plain": [
       "     NU_NOTA_CN  NU_NOTA_CH  NU_NOTA_LC  NU_NOTA_MT  NU_NOTA_REDACAO SG_UF_ESC\n",
       "3        620.80      675.00      624.20      759.40           760.00        SP\n",
       "89       578.40      681.10      638.20      669.80           820.00        SP\n",
       "93       606.30      659.80      607.10      743.00           920.00        RJ\n",
       "113         NaN         NaN         NaN         NaN              NaN        CE\n",
       "119      519.80      550.60      579.50      648.60           640.00        MG"
      ]
     },
     "execution_count": 19,
     "metadata": {},
     "output_type": "execute_result"
    }
   ],
   "source": [
    "df_enem['ufs_candidatos'] = df_enem['SG_UF_ESC'].isin(['SP','CE','MG','RJ'])\n",
    "df_uf_esc = df_enem.loc[df_enem['ufs_candidatos'] == True, colunas_notas + ['SG_UF_ESC']]\n",
    "df_uf_esc.head()"
   ]
  },
  {
   "cell_type": "code",
   "execution_count": 21,
   "id": "a2be4439",
   "metadata": {},
   "outputs": [
    {
     "data": {
      "image/png": "[encoded data removed]",
      "text/plain": [
       "<Figure size 864x432 with 4 Axes>"
      ]
     },
     "metadata": {},
     "output_type": "display_data"
    }
   ],
   "source": [
    "sns.set_style(\"darkgrid\")\n",
    "figura, graficos = plt.subplots(1, 4, sharey=True, figsize=(12,6))\n",
    "plt.tight_layout()\n",
    "\n",
    "for i in range(4):\n",
    "    coluna_1 = colunas_notas[i]\n",
    "    sns.boxplot(data=df_uf_esc, y=coluna_1, x='SG_UF_ESC', ax=graficos[i])"
   ]
  },
  {
   "cell_type": "markdown",
   "id": "9311a977",
   "metadata": {},
   "source": [
    "### NOTAS x ESCOLARIDADE PAIS"
   ]
  },
  {
   "cell_type": "code",
   "execution_count": 123,
   "id": "fa7f75fc",
   "metadata": {},
   "outputs": [
    {
     "data": {
      "text/html": [
       "<div>\n",
       "<style scoped>\n",
       "    .dataframe tbody tr th:only-of-type {\n",
       "        vertical-align: middle;\n",
       "    }\n",
       "\n",
       "    .dataframe tbody tr th {\n",
       "        vertical-align: top;\n",
       "    }\n",
       "\n",
       "    .dataframe thead th {\n",
       "        text-align: right;\n",
       "    }\n",
       "</style>\n",
       "<table border=\"1\" class=\"dataframe\">\n",
       "  <thead>\n",
       "    <tr style=\"text-align: right;\">\n",
       "      <th></th>\n",
       "      <th>NU_NOTA_CN</th>\n",
       "      <th>NU_NOTA_CH</th>\n",
       "      <th>NU_NOTA_LC</th>\n",
       "      <th>NU_NOTA_MT</th>\n",
       "      <th>NU_NOTA_REDACAO</th>\n",
       "      <th>pai_possui_superior</th>\n",
       "      <th>mae_possui_superior</th>\n",
       "    </tr>\n",
       "  </thead>\n",
       "  <tbody>\n",
       "    <tr>\n",
       "      <th>0</th>\n",
       "      <td>NaN</td>\n",
       "      <td>NaN</td>\n",
       "      <td>NaN</td>\n",
       "      <td>NaN</td>\n",
       "      <td>NaN</td>\n",
       "      <td>False</td>\n",
       "      <td>False</td>\n",
       "    </tr>\n",
       "    <tr>\n",
       "      <th>1</th>\n",
       "      <td>604.10</td>\n",
       "      <td>661.70</td>\n",
       "      <td>595.30</td>\n",
       "      <td>711.30</td>\n",
       "      <td>580.00</td>\n",
       "      <td>False</td>\n",
       "      <td>False</td>\n",
       "    </tr>\n",
       "    <tr>\n",
       "      <th>2</th>\n",
       "      <td>NaN</td>\n",
       "      <td>NaN</td>\n",
       "      <td>NaN</td>\n",
       "      <td>NaN</td>\n",
       "      <td>NaN</td>\n",
       "      <td>False</td>\n",
       "      <td>False</td>\n",
       "    </tr>\n",
       "    <tr>\n",
       "      <th>3</th>\n",
       "      <td>620.80</td>\n",
       "      <td>675.00</td>\n",
       "      <td>624.20</td>\n",
       "      <td>759.40</td>\n",
       "      <td>760.00</td>\n",
       "      <td>False</td>\n",
       "      <td>False</td>\n",
       "    </tr>\n",
       "    <tr>\n",
       "      <th>4</th>\n",
       "      <td>NaN</td>\n",
       "      <td>NaN</td>\n",
       "      <td>NaN</td>\n",
       "      <td>NaN</td>\n",
       "      <td>NaN</td>\n",
       "      <td>False</td>\n",
       "      <td>True</td>\n",
       "    </tr>\n",
       "  </tbody>\n",
       "</table>\n",
       "</div>"
      ],
      "text/plain": [
       "   NU_NOTA_CN  NU_NOTA_CH  NU_NOTA_LC  NU_NOTA_MT  NU_NOTA_REDACAO  \\\n",
       "0         NaN         NaN         NaN         NaN              NaN   \n",
       "1      604.10      661.70      595.30      711.30           580.00   \n",
       "2         NaN         NaN         NaN         NaN              NaN   \n",
       "3      620.80      675.00      624.20      759.40           760.00   \n",
       "4         NaN         NaN         NaN         NaN              NaN   \n",
       "\n",
       "   pai_possui_superior  mae_possui_superior  \n",
       "0                False                False  \n",
       "1                False                False  \n",
       "2                False                False  \n",
       "3                False                False  \n",
       "4                False                 True  "
      ]
     },
     "execution_count": 123,
     "metadata": {},
     "output_type": "execute_result"
    }
   ],
   "source": [
    "df_instrucao_pais = df_enem.loc[:, colunas_notas + ['pai_possui_superior', 'mae_possui_superior']]\n",
    "df_instrucao_pais.head()"
   ]
  },
  {
   "cell_type": "markdown",
   "id": "373a5db3",
   "metadata": {},
   "source": [
    "***Escolaridade - Pai ou homem responsável***"
   ]
  },
  {
   "cell_type": "code",
   "execution_count": 89,
   "id": "30dd9775",
   "metadata": {},
   "outputs": [
    {
     "data": {
      "image/png": "[encoded data removed]",
      "text/plain": [
       "<Figure size 576x432 with 4 Axes>"
      ]
     },
     "metadata": {},
     "output_type": "display_data"
    }
   ],
   "source": [
    "sns.set_style(\"darkgrid\")\n",
    "figura, graficos = plt.subplots(1, 4, sharey=True, figsize=(8,6))\n",
    "plt.tight_layout()\n",
    "\n",
    "for i in range(4):\n",
    "    coluna_1 = colunas_notas[i]\n",
    "    sns.boxplot(data=df_instrucao_pais, y=coluna_1, x='pai_possui_superior', ax=graficos[i])"
   ]
  },
  {
   "cell_type": "markdown",
   "id": "45d96f47",
   "metadata": {},
   "source": [
    "***Escolaridade - Mãe ou mulher responsável***"
   ]
  },
  {
   "cell_type": "code",
   "execution_count": 90,
   "id": "c6ff980b",
   "metadata": {},
   "outputs": [
    {
     "data": {
      "image/png": "[encoded data removed]",
      "text/plain": [
       "<Figure size 576x432 with 4 Axes>"
      ]
     },
     "metadata": {},
     "output_type": "display_data"
    }
   ],
   "source": [
    "sns.set_style(\"darkgrid\")\n",
    "figura, graficos = plt.subplots(1, 4, sharey=True, figsize=(8,6))\n",
    "plt.tight_layout()\n",
    "\n",
    "for i in range(4):\n",
    "    coluna_1 = colunas_notas[i]\n",
    "    sns.boxplot(data=df_instrucao_pais, y=coluna_1, x='mae_possui_superior', ax=graficos[i])"
   ]
  },
  {
   "cell_type": "markdown",
   "id": "68dd3f66",
   "metadata": {},
   "source": [
    "### NOTAS x RENDA FAMILIAR"
   ]
  },
  {
   "cell_type": "code",
   "execution_count": 125,
   "id": "1fbd6f9c",
   "metadata": {},
   "outputs": [
    {
     "data": {
      "text/plain": [
       "<AxesSubplot:>"
      ]
     },
     "execution_count": 125,
     "metadata": {},
     "output_type": "execute_result"
    },
    {
     "data": {
      "image/png": "[encoded data removed]",
      "text/plain": [
       "<Figure size 720x360 with 2 Axes>"
      ]
     },
     "metadata": {},
     "output_type": "display_data"
    }
   ],
   "source": [
    "# mapa de calor\n",
    "df_renda = df_enem.loc[:, colunas_notas + ['renda_familiar']]\n",
    "correlacoes_renda = df_renda.corr()\n",
    "sns.heatmap(correlacoes_renda)"
   ]
  },
  {
   "cell_type": "markdown",
   "id": "f989a186",
   "metadata": {},
   "source": [
    "# <font color=\"#4F7942\">Conclusões</font> \n",
    "-------\n",
    "\n",
    "Depois de analisar os dados com o objetivo de avaliar possíveis relações entre as características dos candidatos e as notas dos mesmos, podemos afirmar que existe alguma evidênicia de correlações entre as notas e:  \n",
    "\n",
    "- raça - principalmente indígenas;\n",
    "- unidade federativa - comparando os estados com maior número de candidatos (SP, CE, MG, RJ), o CE obteve desempenho inferior em relação as notas;\n",
    "- escolaridade dos pais - as notas foram muito inferiores para os pais/responsáveis que não possuem ensino superior;\n",
    "- renda familiar - influenciou um pouco na nota de matemática (correlação acima de 0,5)\n",
    "  \n",
    "A grande maioria dos candidadtos possui renda familiar inferior a R$ 2090,00.  \n",
    "  \n",
    "O candidato \"padão\" do Enem é mulher, abaixo de 20 anos, solteira, parda, com renda familiar inferior a R$ 1.567,50, com paiS/responsáveis sem ensino superior completo."
   ]
  },
  {
   "cell_type": "code",
   "execution_count": null,
   "id": "460529a5",
   "metadata": {},
   "outputs": [],
   "source": []
  }
 ],
 "metadata": {
  "kernelspec": {
   "display_name": "Python 3 (ipykernel)",
   "language": "python",
   "name": "python3"
  },
  "language_info": {
   "codemirror_mode": {
    "name": "ipython",
    "version": 3
   },
   "file_extension": ".py",
   "mimetype": "text/x-python",
   "name": "python",
   "nbconvert_exporter": "python",
   "pygments_lexer": "ipython3",
   "version": "3.9.7"
  }
 },
 "nbformat": 4,
 "nbformat_minor": 5
}
